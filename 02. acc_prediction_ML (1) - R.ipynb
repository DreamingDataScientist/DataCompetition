{
 "cells": [
  {
   "cell_type": "markdown",
   "metadata": {},
   "source": [
    "# R로 날씨분석데이터 활용 EDA와 통계 모델링 분석"
   ]
  },
  {
   "cell_type": "code",
   "execution_count": 1,
   "metadata": {},
   "outputs": [
    {
     "data": {
      "text/html": [
       "<table>\n",
       "<thead><tr><th scope=col>X............</th><th scope=col>X......</th><th scope=col>X.......1</th><th scope=col>X8h_celsius</th><th scope=col>X8h_windD</th><th scope=col>X8h_windV</th><th scope=col>X8h_precipitaiton</th><th scope=col>X8h_humidity</th><th scope=col>X..................</th></tr></thead>\n",
       "<tbody>\n",
       "\t<tr><td>4.11202e+12</td><td>411        </td><td>2017010205 </td><td> 5.3875    </td><td>110.7625   </td><td>1.8750     </td><td>0.0000     </td><td>68.9375    </td><td>1          </td></tr>\n",
       "\t<tr><td>4.01202e+12</td><td>401        </td><td>2017062712 </td><td>24.7625    </td><td>141.5750   </td><td>1.4125     </td><td>0.0000     </td><td> 0.0000    </td><td>1          </td></tr>\n",
       "\t<tr><td>4.03202e+12</td><td>403        </td><td>2017111901 </td><td>-2.3750    </td><td>305.7000   </td><td>3.3625     </td><td>0.0000     </td><td> 0.0000    </td><td>1          </td></tr>\n",
       "\t<tr><td>4.06202e+12</td><td>406        </td><td>2017090120 </td><td>26.2875    </td><td>245.4125   </td><td>1.1500     </td><td>0.0000     </td><td>50.3500    </td><td>1          </td></tr>\n",
       "\t<tr><td>4.12202e+12</td><td>412        </td><td>2017090419 </td><td>26.4375    </td><td>147.9375   </td><td>1.3375     </td><td>0.0000     </td><td> 0.0000    </td><td>1          </td></tr>\n",
       "\t<tr><td>4.00202e+12</td><td>400        </td><td>2017070803 </td><td>26.2500    </td><td>219.2125   </td><td>1.7500     </td><td>0.9375     </td><td>93.2500    </td><td>1          </td></tr>\n",
       "</tbody>\n",
       "</table>\n"
      ],
      "text/latex": [
       "\\begin{tabular}{r|lllllllll}\n",
       " X............ & X...... & X.......1 & X8h\\_celsius & X8h\\_windD & X8h\\_windV & X8h\\_precipitaiton & X8h\\_humidity & X..................\\\\\n",
       "\\hline\n",
       "\t 4.11202e+12 & 411         & 2017010205  &  5.3875     & 110.7625    & 1.8750      & 0.0000      & 68.9375     & 1          \\\\\n",
       "\t 4.01202e+12 & 401         & 2017062712  & 24.7625     & 141.5750    & 1.4125      & 0.0000      &  0.0000     & 1          \\\\\n",
       "\t 4.03202e+12 & 403         & 2017111901  & -2.3750     & 305.7000    & 3.3625      & 0.0000      &  0.0000     & 1          \\\\\n",
       "\t 4.06202e+12 & 406         & 2017090120  & 26.2875     & 245.4125    & 1.1500      & 0.0000      & 50.3500     & 1          \\\\\n",
       "\t 4.12202e+12 & 412         & 2017090419  & 26.4375     & 147.9375    & 1.3375      & 0.0000      &  0.0000     & 1          \\\\\n",
       "\t 4.00202e+12 & 400         & 2017070803  & 26.2500     & 219.2125    & 1.7500      & 0.9375      & 93.2500     & 1          \\\\\n",
       "\\end{tabular}\n"
      ],
      "text/markdown": [
       "\n",
       "X............ | X...... | X.......1 | X8h_celsius | X8h_windD | X8h_windV | X8h_precipitaiton | X8h_humidity | X.................. | \n",
       "|---|---|---|---|---|---|\n",
       "| 4.11202e+12 | 411         | 2017010205  |  5.3875     | 110.7625    | 1.8750      | 0.0000      | 68.9375     | 1           | \n",
       "| 4.01202e+12 | 401         | 2017062712  | 24.7625     | 141.5750    | 1.4125      | 0.0000      |  0.0000     | 1           | \n",
       "| 4.03202e+12 | 403         | 2017111901  | -2.3750     | 305.7000    | 3.3625      | 0.0000      |  0.0000     | 1           | \n",
       "| 4.06202e+12 | 406         | 2017090120  | 26.2875     | 245.4125    | 1.1500      | 0.0000      | 50.3500     | 1           | \n",
       "| 4.12202e+12 | 412         | 2017090419  | 26.4375     | 147.9375    | 1.3375      | 0.0000      |  0.0000     | 1           | \n",
       "| 4.00202e+12 | 400         | 2017070803  | 26.2500     | 219.2125    | 1.7500      | 0.9375      | 93.2500     | 1           | \n",
       "\n",
       "\n"
      ],
      "text/plain": [
       "  X............ X...... X.......1  X8h_celsius X8h_windD X8h_windV\n",
       "1 4.11202e+12   411     2017010205  5.3875     110.7625  1.8750   \n",
       "2 4.01202e+12   401     2017062712 24.7625     141.5750  1.4125   \n",
       "3 4.03202e+12   403     2017111901 -2.3750     305.7000  3.3625   \n",
       "4 4.06202e+12   406     2017090120 26.2875     245.4125  1.1500   \n",
       "5 4.12202e+12   412     2017090419 26.4375     147.9375  1.3375   \n",
       "6 4.00202e+12   400     2017070803 26.2500     219.2125  1.7500   \n",
       "  X8h_precipitaiton X8h_humidity X..................\n",
       "1 0.0000            68.9375      1                  \n",
       "2 0.0000             0.0000      1                  \n",
       "3 0.0000             0.0000      1                  \n",
       "4 0.0000            50.3500      1                  \n",
       "5 0.0000             0.0000      1                  \n",
       "6 0.9375            93.2500      1                  "
      ]
     },
     "metadata": {},
     "output_type": "display_data"
    },
    {
     "name": "stdout",
     "output_type": "stream",
     "text": [
      "'data.frame':\t5990 obs. of  9 variables:\n",
      " $ 지점일시: num  4.11e+12 4.01e+12 4.03e+12 4.06e+12 4.12e+12 ...\n",
      " $ 지점    : int  411 401 403 406 412 400 405 400 411 424 ...\n",
      " $ 일시    : int  2017010205 2017062712 2017111901 2017090120 2017090419 2017070803 2017100201 2017070801 2017111409 2017022711 ...\n",
      " $ 온도    : num  5.39 24.76 -2.38 26.29 26.44 ...\n",
      " $ 풍향    : num  111 142 306 245 148 ...\n",
      " $ 풍속    : num  1.88 1.41 3.36 1.15 1.34 ...\n",
      " $ 강수량  : num  0 0 0 0 0 ...\n",
      " $ 습도    : num  68.9 0 0 50.4 0 ...\n",
      " $ 사고유무: int  1 1 1 1 1 1 1 1 1 1 ...\n"
     ]
    }
   ],
   "source": [
    "data <- read.csv('C:/Users/test/Desktop/날씨빅데이터/aws_acci_data.csv', header=TRUE)\n",
    "head(data)\n",
    "colnames(data) <- c('지점일시', '지점', '일시', '온도', '풍향', '풍속', '강수량', '습도', '사고유무')\n",
    "str(data)"
   ]
  },
  {
   "cell_type": "code",
   "execution_count": 2,
   "metadata": {},
   "outputs": [
    {
     "data": {
      "text/html": [
       "<table>\n",
       "<thead><tr><th scope=col>사고유무</th><th scope=col>온도</th><th scope=col>풍향</th><th scope=col>풍속</th><th scope=col>강수량</th><th scope=col>습도</th></tr></thead>\n",
       "<tbody>\n",
       "\t<tr><td>1       </td><td> 5.3875 </td><td>110.7625</td><td>1.8750  </td><td>0.0000  </td><td>68.9375 </td></tr>\n",
       "\t<tr><td>1       </td><td>24.7625 </td><td>141.5750</td><td>1.4125  </td><td>0.0000  </td><td> 0.0000 </td></tr>\n",
       "\t<tr><td>1       </td><td>-2.3750 </td><td>305.7000</td><td>3.3625  </td><td>0.0000  </td><td> 0.0000 </td></tr>\n",
       "\t<tr><td>1       </td><td>26.2875 </td><td>245.4125</td><td>1.1500  </td><td>0.0000  </td><td>50.3500 </td></tr>\n",
       "\t<tr><td>1       </td><td>26.4375 </td><td>147.9375</td><td>1.3375  </td><td>0.0000  </td><td> 0.0000 </td></tr>\n",
       "\t<tr><td>1       </td><td>26.2500 </td><td>219.2125</td><td>1.7500  </td><td>0.9375  </td><td>93.2500 </td></tr>\n",
       "</tbody>\n",
       "</table>\n"
      ],
      "text/latex": [
       "\\begin{tabular}{llllll}\n",
       " 사고유무 & 온도 & 풍향 & 풍속 & 강수량 & 습도\\\\\n",
       "\\hline\n",
       "\t 1        &  5.3875  & 110.7625 & 1.8750   & 0.0000   & 68.9375 \\\\\n",
       "\t 1        & 24.7625  & 141.5750 & 1.4125   & 0.0000   &  0.0000 \\\\\n",
       "\t 1        & -2.3750  & 305.7000 & 3.3625   & 0.0000   &  0.0000 \\\\\n",
       "\t 1        & 26.2875  & 245.4125 & 1.1500   & 0.0000   & 50.3500 \\\\\n",
       "\t 1        & 26.4375  & 147.9375 & 1.3375   & 0.0000   &  0.0000 \\\\\n",
       "\t 1        & 26.2500  & 219.2125 & 1.7500   & 0.9375   & 93.2500 \\\\\n",
       "\\end{tabular}\n"
      ],
      "text/markdown": [
       "\n",
       "사고유무 | 온도 | 풍향 | 풍속 | 강수량 | 습도 | \n",
       "|---|---|---|---|---|---|\n",
       "| 1        |  5.3875  | 110.7625 | 1.8750   | 0.0000   | 68.9375  | \n",
       "| 1        | 24.7625  | 141.5750 | 1.4125   | 0.0000   |  0.0000  | \n",
       "| 1        | -2.3750  | 305.7000 | 3.3625   | 0.0000   |  0.0000  | \n",
       "| 1        | 26.2875  | 245.4125 | 1.1500   | 0.0000   | 50.3500  | \n",
       "| 1        | 26.4375  | 147.9375 | 1.3375   | 0.0000   |  0.0000  | \n",
       "| 1        | 26.2500  | 219.2125 | 1.7500   | 0.9375   | 93.2500  | \n",
       "\n",
       "\n"
      ],
      "text/plain": [
       "     사고유무 온도    풍향     풍속   강수량 습도   \n",
       "[1,] 1         5.3875 110.7625 1.8750 0.0000 68.9375\n",
       "[2,] 1        24.7625 141.5750 1.4125 0.0000  0.0000\n",
       "[3,] 1        -2.3750 305.7000 3.3625 0.0000  0.0000\n",
       "[4,] 1        26.2875 245.4125 1.1500 0.0000 50.3500\n",
       "[5,] 1        26.4375 147.9375 1.3375 0.0000  0.0000\n",
       "[6,] 1        26.2500 219.2125 1.7500 0.9375 93.2500"
      ]
     },
     "metadata": {},
     "output_type": "display_data"
    }
   ],
   "source": [
    "attach(data)\n",
    "tmp <- cbind(사고유무, 온도, 풍향, 풍속, 강수량, 습도)\n",
    "head(tmp)"
   ]
  },
  {
   "cell_type": "code",
   "execution_count": 4,
   "metadata": {},
   "outputs": [],
   "source": [
    "set.seed(9876)\n",
    "n <- nrow(tmp)\n",
    "idx <- 1:n\n",
    "training_idx <- sample(idx, n*.60)\n",
    "idx <- setdiff(idx, training_idx)\n",
    "test_idx <- sample(idx, n*.40)\n"
   ]
  },
  {
   "cell_type": "code",
   "execution_count": 5,
   "metadata": {},
   "outputs": [
    {
     "data": {
      "text/html": [
       "<table>\n",
       "<thead><tr><th scope=col>사고유무</th><th scope=col>온도</th><th scope=col>풍향</th><th scope=col>풍속</th><th scope=col>강수량</th><th scope=col>습도</th></tr></thead>\n",
       "<tbody>\n",
       "\t<tr><td>0       </td><td>27.3125 </td><td>264.1875</td><td>2.0750  </td><td>0       </td><td>78.550  </td></tr>\n",
       "\t<tr><td>1       </td><td> 5.6250 </td><td>230.3625</td><td>1.0000  </td><td>0       </td><td> 0.000  </td></tr>\n",
       "\t<tr><td>1       </td><td>30.7250 </td><td>195.4500</td><td>1.9750  </td><td>0       </td><td> 0.000  </td></tr>\n",
       "\t<tr><td>0       </td><td>23.2375 </td><td>159.6250</td><td>2.1375  </td><td>0       </td><td>60.950  </td></tr>\n",
       "\t<tr><td>1       </td><td> 7.3250 </td><td>118.5500</td><td>0.4250  </td><td>0       </td><td> 0.000  </td></tr>\n",
       "\t<tr><td>1       </td><td>24.6750 </td><td>203.8250</td><td>1.3000  </td><td>0       </td><td>75.125  </td></tr>\n",
       "</tbody>\n",
       "</table>\n"
      ],
      "text/latex": [
       "\\begin{tabular}{llllll}\n",
       " 사고유무 & 온도 & 풍향 & 풍속 & 강수량 & 습도\\\\\n",
       "\\hline\n",
       "\t 0        & 27.3125  & 264.1875 & 2.0750   & 0        & 78.550  \\\\\n",
       "\t 1        &  5.6250  & 230.3625 & 1.0000   & 0        &  0.000  \\\\\n",
       "\t 1        & 30.7250  & 195.4500 & 1.9750   & 0        &  0.000  \\\\\n",
       "\t 0        & 23.2375  & 159.6250 & 2.1375   & 0        & 60.950  \\\\\n",
       "\t 1        &  7.3250  & 118.5500 & 0.4250   & 0        &  0.000  \\\\\n",
       "\t 1        & 24.6750  & 203.8250 & 1.3000   & 0        & 75.125  \\\\\n",
       "\\end{tabular}\n"
      ],
      "text/markdown": [
       "\n",
       "사고유무 | 온도 | 풍향 | 풍속 | 강수량 | 습도 | \n",
       "|---|---|---|---|---|---|\n",
       "| 0        | 27.3125  | 264.1875 | 2.0750   | 0        | 78.550   | \n",
       "| 1        |  5.6250  | 230.3625 | 1.0000   | 0        |  0.000   | \n",
       "| 1        | 30.7250  | 195.4500 | 1.9750   | 0        |  0.000   | \n",
       "| 0        | 23.2375  | 159.6250 | 2.1375   | 0        | 60.950   | \n",
       "| 1        |  7.3250  | 118.5500 | 0.4250   | 0        |  0.000   | \n",
       "| 1        | 24.6750  | 203.8250 | 1.3000   | 0        | 75.125   | \n",
       "\n",
       "\n"
      ],
      "text/plain": [
       "     사고유무 온도    풍향     풍속   강수량 습도  \n",
       "[1,] 0        27.3125 264.1875 2.0750 0      78.550\n",
       "[2,] 1         5.6250 230.3625 1.0000 0       0.000\n",
       "[3,] 1        30.7250 195.4500 1.9750 0       0.000\n",
       "[4,] 0        23.2375 159.6250 2.1375 0      60.950\n",
       "[5,] 1         7.3250 118.5500 0.4250 0       0.000\n",
       "[6,] 1        24.6750 203.8250 1.3000 0      75.125"
      ]
     },
     "metadata": {},
     "output_type": "display_data"
    },
    {
     "data": {
      "text/html": [
       "<table>\n",
       "<thead><tr><th scope=col>사고유무</th><th scope=col>온도</th><th scope=col>풍향</th><th scope=col>풍속</th><th scope=col>강수량</th><th scope=col>습도</th></tr></thead>\n",
       "<tbody>\n",
       "\t<tr><td>0       </td><td>18.7000 </td><td>259.7375</td><td>1.4250  </td><td>0.0000  </td><td>65.350  </td></tr>\n",
       "\t<tr><td>1       </td><td>-2.5500 </td><td>283.4625</td><td>1.5750  </td><td>0.0000  </td><td>39.550  </td></tr>\n",
       "\t<tr><td>0       </td><td> 0.7125 </td><td>242.0750</td><td>2.2375  </td><td>0.0625  </td><td> 0.000  </td></tr>\n",
       "\t<tr><td>0       </td><td>16.1000 </td><td>122.7625</td><td>3.1375  </td><td>0.0000  </td><td>68.025  </td></tr>\n",
       "\t<tr><td>0       </td><td> 7.1250 </td><td>274.7875</td><td>2.6750  </td><td>0.0000  </td><td> 0.000  </td></tr>\n",
       "\t<tr><td>1       </td><td>24.0000 </td><td>118.0625</td><td>1.7625  </td><td>0.3125  </td><td>90.425  </td></tr>\n",
       "</tbody>\n",
       "</table>\n"
      ],
      "text/latex": [
       "\\begin{tabular}{llllll}\n",
       " 사고유무 & 온도 & 풍향 & 풍속 & 강수량 & 습도\\\\\n",
       "\\hline\n",
       "\t 0        & 18.7000  & 259.7375 & 1.4250   & 0.0000   & 65.350  \\\\\n",
       "\t 1        & -2.5500  & 283.4625 & 1.5750   & 0.0000   & 39.550  \\\\\n",
       "\t 0        &  0.7125  & 242.0750 & 2.2375   & 0.0625   &  0.000  \\\\\n",
       "\t 0        & 16.1000  & 122.7625 & 3.1375   & 0.0000   & 68.025  \\\\\n",
       "\t 0        &  7.1250  & 274.7875 & 2.6750   & 0.0000   &  0.000  \\\\\n",
       "\t 1        & 24.0000  & 118.0625 & 1.7625   & 0.3125   & 90.425  \\\\\n",
       "\\end{tabular}\n"
      ],
      "text/markdown": [
       "\n",
       "사고유무 | 온도 | 풍향 | 풍속 | 강수량 | 습도 | \n",
       "|---|---|---|---|---|---|\n",
       "| 0        | 18.7000  | 259.7375 | 1.4250   | 0.0000   | 65.350   | \n",
       "| 1        | -2.5500  | 283.4625 | 1.5750   | 0.0000   | 39.550   | \n",
       "| 0        |  0.7125  | 242.0750 | 2.2375   | 0.0625   |  0.000   | \n",
       "| 0        | 16.1000  | 122.7625 | 3.1375   | 0.0000   | 68.025   | \n",
       "| 0        |  7.1250  | 274.7875 | 2.6750   | 0.0000   |  0.000   | \n",
       "| 1        | 24.0000  | 118.0625 | 1.7625   | 0.3125   | 90.425   | \n",
       "\n",
       "\n"
      ],
      "text/plain": [
       "     사고유무 온도    풍향     풍속   강수량 습도  \n",
       "[1,] 0        18.7000 259.7375 1.4250 0.0000 65.350\n",
       "[2,] 1        -2.5500 283.4625 1.5750 0.0000 39.550\n",
       "[3,] 0         0.7125 242.0750 2.2375 0.0625  0.000\n",
       "[4,] 0        16.1000 122.7625 3.1375 0.0000 68.025\n",
       "[5,] 0         7.1250 274.7875 2.6750 0.0000  0.000\n",
       "[6,] 1        24.0000 118.0625 1.7625 0.3125 90.425"
      ]
     },
     "metadata": {},
     "output_type": "display_data"
    }
   ],
   "source": [
    "train <- tmp[training_idx,]\n",
    "test <- tmp[test_idx,]\n",
    "\n",
    "head(train)\n",
    "head(test)"
   ]
  },
  {
   "cell_type": "code",
   "execution_count": 8,
   "metadata": {},
   "outputs": [
    {
     "name": "stderr",
     "output_type": "stream",
     "text": [
      "Installing package into 'C:/Users/test/Documents/R/win-library/3.4'\n",
      "(as 'lib' is unspecified)\n"
     ]
    },
    {
     "name": "stdout",
     "output_type": "stream",
     "text": [
      "package 'corrplot' successfully unpacked and MD5 sums checked\n",
      "\n",
      "The downloaded binary packages are in\n",
      "\tC:\\Users\\test\\AppData\\Local\\Temp\\RtmpGkgPLL\\downloaded_packages\n"
     ]
    },
    {
     "name": "stderr",
     "output_type": "stream",
     "text": [
      "Warning message:\n",
      "\"package 'corrplot' was built under R version 3.4.4\"corrplot 0.84 loaded\n"
     ]
    },
    {
     "data": {
      "text/html": [
       "<table>\n",
       "<thead><tr><th></th><th scope=col>사고유무</th><th scope=col>온도</th><th scope=col>풍향</th><th scope=col>풍속</th><th scope=col>강수량</th><th scope=col>습도</th></tr></thead>\n",
       "<tbody>\n",
       "\t<tr><th scope=row>사고유무</th><td> 1.000</td><td>-0.287</td><td>-0.071</td><td>-0.242</td><td>-0.016</td><td>-0.257</td></tr>\n",
       "\t<tr><th scope=row>온도</th><td>-0.287</td><td> 1.000</td><td>-0.144</td><td>-0.028</td><td> 0.133</td><td> 0.467</td></tr>\n",
       "\t<tr><th scope=row>풍향</th><td>-0.071</td><td>-0.144</td><td> 1.000</td><td> 0.361</td><td>-0.080</td><td>-0.137</td></tr>\n",
       "\t<tr><th scope=row>풍속</th><td>-0.242</td><td>-0.028</td><td> 0.361</td><td> 1.000</td><td> 0.032</td><td> 0.001</td></tr>\n",
       "\t<tr><th scope=row>강수량</th><td>-0.016</td><td> 0.133</td><td>-0.080</td><td> 0.032</td><td> 1.000</td><td> 0.189</td></tr>\n",
       "\t<tr><th scope=row>습도</th><td>-0.257</td><td> 0.467</td><td>-0.137</td><td> 0.001</td><td> 0.189</td><td> 1.000</td></tr>\n",
       "</tbody>\n",
       "</table>\n"
      ],
      "text/latex": [
       "\\begin{tabular}{r|llllll}\n",
       "  & 사고유무 & 온도 & 풍향 & 풍속 & 강수량 & 습도\\\\\n",
       "\\hline\n",
       "\t사고유무 &  1.000 & -0.287 & -0.071 & -0.242 & -0.016 & -0.257\\\\\n",
       "\t온도 & -0.287 &  1.000 & -0.144 & -0.028 &  0.133 &  0.467\\\\\n",
       "\t풍향 & -0.071 & -0.144 &  1.000 &  0.361 & -0.080 & -0.137\\\\\n",
       "\t풍속 & -0.242 & -0.028 &  0.361 &  1.000 &  0.032 &  0.001\\\\\n",
       "\t강수량 & -0.016 &  0.133 & -0.080 &  0.032 &  1.000 &  0.189\\\\\n",
       "\t습도 & -0.257 &  0.467 & -0.137 &  0.001 &  0.189 &  1.000\\\\\n",
       "\\end{tabular}\n"
      ],
      "text/markdown": [
       "\n",
       "| <!--/--> | 사고유무 | 온도 | 풍향 | 풍속 | 강수량 | 습도 | \n",
       "|---|---|---|---|---|---|\n",
       "| 사고유무 |  1.000 | -0.287 | -0.071 | -0.242 | -0.016 | -0.257 | \n",
       "| 온도 | -0.287 |  1.000 | -0.144 | -0.028 |  0.133 |  0.467 | \n",
       "| 풍향 | -0.071 | -0.144 |  1.000 |  0.361 | -0.080 | -0.137 | \n",
       "| 풍속 | -0.242 | -0.028 |  0.361 |  1.000 |  0.032 |  0.001 | \n",
       "| 강수량 | -0.016 |  0.133 | -0.080 |  0.032 |  1.000 |  0.189 | \n",
       "| 습도 | -0.257 |  0.467 | -0.137 |  0.001 |  0.189 |  1.000 | \n",
       "\n",
       "\n"
      ],
      "text/plain": [
       "         사고유무 온도   풍향   풍속   강수량 습도  \n",
       "사고유무  1.000   -0.287 -0.071 -0.242 -0.016 -0.257\n",
       "온도     -0.287    1.000 -0.144 -0.028  0.133  0.467\n",
       "풍향     -0.071   -0.144  1.000  0.361 -0.080 -0.137\n",
       "풍속     -0.242   -0.028  0.361  1.000  0.032  0.001\n",
       "강수량   -0.016    0.133 -0.080  0.032  1.000  0.189\n",
       "습도     -0.257    0.467 -0.137  0.001  0.189  1.000"
      ]
     },
     "metadata": {},
     "output_type": "display_data"
    },
    {
     "data": {
      "image/png": "[encoded data removed]",
      "text/plain": [
       "Plot with title \"\""
      ]
     },
     "metadata": {},
     "output_type": "display_data"
    }
   ],
   "source": [
    "#상관분석 - 온도 > 습도 > 풍속\n",
    "#온도가 낮을 수록 습도가 낮을 수록 풍속이 낮을 수록 음주사고가 난다인데... 별 도움이 안됑 \n",
    "\n",
    "install.packages('corrplot', repos='http://cran.rstudio.com/')\n",
    "library(corrplot)\n",
    "tmp <- scale(tmp)\n",
    "\n",
    "cor_data <- round(cor(tmp),3)\n",
    "cor_data\n",
    "\n",
    "corrplot(cor_data, method='ellipse')\n"
   ]
  },
  {
   "cell_type": "code",
   "execution_count": 10,
   "metadata": {},
   "outputs": [],
   "source": [
    "tmp <- as.data.frame(tmp)"
   ]
  },
  {
   "cell_type": "code",
   "execution_count": 11,
   "metadata": {},
   "outputs": [
    {
     "data": {
      "text/plain": [
       "\n",
       "Call:\n",
       "lm(formula = 사고유무 ~ ., data = tmp)\n",
       "\n",
       "Residuals:\n",
       "    Min      1Q  Median      3Q     Max \n",
       "-1.9299 -0.7384 -0.2739  0.8417  2.2639 \n",
       "\n",
       "Coefficients:\n",
       "              Estimate Std. Error t value Pr(>|t|)    \n",
       "(Intercept)  3.063e-17  1.180e-02   0.000  1.00000    \n",
       "온도        -2.283e-01  1.341e-02 -17.025  < 2e-16 ***\n",
       "풍향        -3.664e-02  1.286e-02  -2.848  0.00441 ** \n",
       "풍속        -2.371e-01  1.269e-02 -18.689  < 2e-16 ***\n",
       "강수량       5.050e-02  1.207e-02   4.186 2.88e-05 ***\n",
       "습도        -1.650e-01  1.352e-02 -12.200  < 2e-16 ***\n",
       "---\n",
       "Signif. codes:  0 '***' 0.001 '**' 0.01 '*' 0.05 '.' 0.1 ' ' 1\n",
       "\n",
       "Residual standard error: 0.913 on 5984 degrees of freedom\n",
       "Multiple R-squared:  0.1671,\tAdjusted R-squared:  0.1664 \n",
       "F-statistic: 240.2 on 5 and 5984 DF,  p-value: < 2.2e-16\n"
      ]
     },
     "metadata": {},
     "output_type": "display_data"
    }
   ],
   "source": [
    "#선형회귀모형 - 종속변수의 예측값이 수치값의 결과물을 원할 때\n",
    "#Adjusted R-squared 가 16프로 즉, 신뢰 가능성이 낮음\n",
    "lm_acc <- lm(사고유무 ~., data=tmp)\n",
    "summary(lm_acc)"
   ]
  },
  {
   "cell_type": "code",
   "execution_count": 14,
   "metadata": {},
   "outputs": [
    {
     "data": {
      "text/html": [
       "<table>\n",
       "<thead><tr><th scope=col>사고유무</th><th scope=col>온도</th><th scope=col>풍향</th><th scope=col>풍속</th><th scope=col>강수량</th><th scope=col>습도</th></tr></thead>\n",
       "<tbody>\n",
       "\t<tr><td>0       </td><td>27.3125 </td><td>264.1875</td><td>2.0750  </td><td>0       </td><td>78.550  </td></tr>\n",
       "\t<tr><td>1       </td><td> 5.6250 </td><td>230.3625</td><td>1.0000  </td><td>0       </td><td> 0.000  </td></tr>\n",
       "\t<tr><td>1       </td><td>30.7250 </td><td>195.4500</td><td>1.9750  </td><td>0       </td><td> 0.000  </td></tr>\n",
       "\t<tr><td>0       </td><td>23.2375 </td><td>159.6250</td><td>2.1375  </td><td>0       </td><td>60.950  </td></tr>\n",
       "\t<tr><td>1       </td><td> 7.3250 </td><td>118.5500</td><td>0.4250  </td><td>0       </td><td> 0.000  </td></tr>\n",
       "\t<tr><td>1       </td><td>24.6750 </td><td>203.8250</td><td>1.3000  </td><td>0       </td><td>75.125  </td></tr>\n",
       "</tbody>\n",
       "</table>\n"
      ],
      "text/latex": [
       "\\begin{tabular}{llllll}\n",
       " 사고유무 & 온도 & 풍향 & 풍속 & 강수량 & 습도\\\\\n",
       "\\hline\n",
       "\t 0        & 27.3125  & 264.1875 & 2.0750   & 0        & 78.550  \\\\\n",
       "\t 1        &  5.6250  & 230.3625 & 1.0000   & 0        &  0.000  \\\\\n",
       "\t 1        & 30.7250  & 195.4500 & 1.9750   & 0        &  0.000  \\\\\n",
       "\t 0        & 23.2375  & 159.6250 & 2.1375   & 0        & 60.950  \\\\\n",
       "\t 1        &  7.3250  & 118.5500 & 0.4250   & 0        &  0.000  \\\\\n",
       "\t 1        & 24.6750  & 203.8250 & 1.3000   & 0        & 75.125  \\\\\n",
       "\\end{tabular}\n"
      ],
      "text/markdown": [
       "\n",
       "사고유무 | 온도 | 풍향 | 풍속 | 강수량 | 습도 | \n",
       "|---|---|---|---|---|---|\n",
       "| 0        | 27.3125  | 264.1875 | 2.0750   | 0        | 78.550   | \n",
       "| 1        |  5.6250  | 230.3625 | 1.0000   | 0        |  0.000   | \n",
       "| 1        | 30.7250  | 195.4500 | 1.9750   | 0        |  0.000   | \n",
       "| 0        | 23.2375  | 159.6250 | 2.1375   | 0        | 60.950   | \n",
       "| 1        |  7.3250  | 118.5500 | 0.4250   | 0        |  0.000   | \n",
       "| 1        | 24.6750  | 203.8250 | 1.3000   | 0        | 75.125   | \n",
       "\n",
       "\n"
      ],
      "text/plain": [
       "     사고유무 온도    풍향     풍속   강수량 습도  \n",
       "[1,] 0        27.3125 264.1875 2.0750 0      78.550\n",
       "[2,] 1         5.6250 230.3625 1.0000 0       0.000\n",
       "[3,] 1        30.7250 195.4500 1.9750 0       0.000\n",
       "[4,] 0        23.2375 159.6250 2.1375 0      60.950\n",
       "[5,] 1         7.3250 118.5500 0.4250 0       0.000\n",
       "[6,] 1        24.6750 203.8250 1.3000 0      75.125"
      ]
     },
     "metadata": {},
     "output_type": "display_data"
    },
    {
     "name": "stderr",
     "output_type": "stream",
     "text": [
      "The following objects are masked from data:\n",
      "\n",
      "    강수량, 사고유무, 습도, 온도, 풍속, 풍향\n",
      "\n"
     ]
    }
   ],
   "source": [
    "head(train)\n",
    "\n",
    "train <- as.data.frame(train)\n",
    "attach(train)\n",
    "glm_acc <- glm(사고유무 ~ 온도+풍향+풍속+강수량+습도, family='binomial')"
   ]
  },
  {
   "cell_type": "code",
   "execution_count": 15,
   "metadata": {},
   "outputs": [
    {
     "data": {
      "text/plain": [
       "\n",
       "Call:\n",
       "glm(formula = 사고유무 ~ 온도 + 풍향 + 풍속 + 강수량 + 습도, \n",
       "    family = \"binomial\")\n",
       "\n",
       "Deviance Residuals: \n",
       "    Min       1Q   Median       3Q      Max  \n",
       "-2.1310  -0.9216  -0.5742   1.0134   2.4987  \n",
       "\n",
       "Coefficients:\n",
       "              Estimate Std. Error z value Pr(>|z|)    \n",
       "(Intercept)  2.5691292  0.1488019  17.265  < 2e-16 ***\n",
       "온도        -0.0489627  0.0038690 -12.655  < 2e-16 ***\n",
       "풍향        -0.0012815  0.0005485  -2.336 0.019474 *  \n",
       "풍속        -0.6368677  0.0474691 -13.416  < 2e-16 ***\n",
       "강수량       0.1249676  0.0378825   3.299 0.000971 ***\n",
       "습도        -0.0109802  0.0011990  -9.158  < 2e-16 ***\n",
       "---\n",
       "Signif. codes:  0 '***' 0.001 '**' 0.01 '*' 0.05 '.' 0.1 ' ' 1\n",
       "\n",
       "(Dispersion parameter for binomial family taken to be 1)\n",
       "\n",
       "    Null deviance: 4962.6  on 3593  degrees of freedom\n",
       "Residual deviance: 4292.2  on 3588  degrees of freedom\n",
       "AIC: 4304.2\n",
       "\n",
       "Number of Fisher Scoring iterations: 4\n"
      ]
     },
     "metadata": {},
     "output_type": "display_data"
    }
   ],
   "source": [
    "#Null deviance와 residual deviance의 차이: Null 모델과 비교하여 해당 변수가 모델에 \n",
    "# 포함 되었을 때 모델의 성능이 얼마나 나아지\n",
    "#Deviance Residuals을 통해 model fitting이 잘되어있는지에 대한 측정이다. \n",
    "summary(glm_acc)\n"
   ]
  },
  {
   "cell_type": "code",
   "execution_count": 16,
   "metadata": {},
   "outputs": [
    {
     "name": "stderr",
     "output_type": "stream",
     "text": [
      "Warning message in AIC.default(lm_acc, glm_acc):\n",
      "\"models are not all fitted to the same number of observations\""
     ]
    },
    {
     "data": {
      "text/html": [
       "<table>\n",
       "<thead><tr><th></th><th scope=col>df</th><th scope=col>AIC</th></tr></thead>\n",
       "<tbody>\n",
       "\t<tr><th scope=row>lm_acc</th><td>7        </td><td>15916.335</td></tr>\n",
       "\t<tr><th scope=row>glm_acc</th><td>6        </td><td> 4304.165</td></tr>\n",
       "</tbody>\n",
       "</table>\n"
      ],
      "text/latex": [
       "\\begin{tabular}{r|ll}\n",
       "  & df & AIC\\\\\n",
       "\\hline\n",
       "\tlm\\_acc & 7         & 15916.335\\\\\n",
       "\tglm\\_acc & 6         &  4304.165\\\\\n",
       "\\end{tabular}\n"
      ],
      "text/markdown": [
       "\n",
       "| <!--/--> | df | AIC | \n",
       "|---|---|\n",
       "| lm_acc | 7         | 15916.335 | \n",
       "| glm_acc | 6         |  4304.165 | \n",
       "\n",
       "\n"
      ],
      "text/plain": [
       "        df AIC      \n",
       "lm_acc  7  15916.335\n",
       "glm_acc 6   4304.165"
      ]
     },
     "metadata": {},
     "output_type": "display_data"
    }
   ],
   "source": [
    "#AIC를 통해도 알 수 있듯이 glm_acc모델이 더 좋음을 알 수 있다.\n",
    "AIC(lm_acc, glm_acc)\n"
   ]
  }
 ],
 "metadata": {
  "kernelspec": {
   "display_name": "R",
   "language": "R",
   "name": "ir"
  },
  "language_info": {
   "codemirror_mode": "r",
   "file_extension": ".r",
   "mimetype": "text/x-r-source",
   "name": "R",
   "pygments_lexer": "r",
   "version": "3.4.3"
  }
 },
 "nbformat": 4,
 "nbformat_minor": 2
}
