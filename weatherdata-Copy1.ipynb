{
 "cells": [
  {
   "cell_type": "code",
   "execution_count": 2,
   "metadata": {},
   "outputs": [
    {
     "name": "stdout",
     "output_type": "stream",
     "text": [
      "Requirement already satisfied: seaborn in /root/miniconda3/lib/python3.6/site-packages (0.8.1)\n",
      "\u001b[31mmkl-random 1.0.1 requires cython, which is not installed.\u001b[0m\n",
      "\u001b[31mmkl-fft 1.0.0 requires cython, which is not installed.\u001b[0m\n"
     ]
    }
   ],
   "source": [
    "!pip install seaborn\n",
    "\n",
    "import pandas as pd\n",
    "import numpy as np\n",
    "import matplotlib as mpl\n",
    "import matplotlib.pyplot as plt\n",
    "import seaborn as sns\n",
    "from scipy import stats\n",
    "\n",
    "# 노트북 안에 그래프를 그리기 위해\n",
    "%matplotlib inline\n"
   ]
  },
  {
   "cell_type": "markdown",
   "metadata": {},
   "source": [
    "### 데이터 불러오기 \n",
    "- '일시'열은 parse_dates 타입으로 불러오기"
   ]
  },
  {
   "cell_type": "code",
   "execution_count": 3,
   "metadata": {},
   "outputs": [],
   "source": [
    "weather = pd.read_csv('https://raw.githubusercontent.com/DreamingDataScientist/DataCompetition/master/Data/aws_hour_2017_seoul.csv', encoding ='EUC-KR', parse_dates=['일시'])"
   ]
  },
  {
   "cell_type": "code",
   "execution_count": 4,
   "metadata": {},
   "outputs": [
    {
     "data": {
      "text/html": [
       "<div>\n",
       "<style scoped>\n",
       "    .dataframe tbody tr th:only-of-type {\n",
       "        vertical-align: middle;\n",
       "    }\n",
       "\n",
       "    .dataframe tbody tr th {\n",
       "        vertical-align: top;\n",
       "    }\n",
       "\n",
       "    .dataframe thead th {\n",
       "        text-align: right;\n",
       "    }\n",
       "</style>\n",
       "<table border=\"1\" class=\"dataframe\">\n",
       "  <thead>\n",
       "    <tr style=\"text-align: right;\">\n",
       "      <th></th>\n",
       "      <th>지점</th>\n",
       "      <th>일시</th>\n",
       "      <th>기온(°C)</th>\n",
       "      <th>풍향(deg)</th>\n",
       "      <th>풍속(m/s)</th>\n",
       "      <th>강수량(mm)</th>\n",
       "      <th>현지기압(hPa)</th>\n",
       "      <th>해면기압(hPa)</th>\n",
       "      <th>습도(%)</th>\n",
       "      <th>일사(MJ/m^2)</th>\n",
       "      <th>일조(hr)</th>\n",
       "    </tr>\n",
       "  </thead>\n",
       "  <tbody>\n",
       "    <tr>\n",
       "      <th>0</th>\n",
       "      <td>400</td>\n",
       "      <td>2017-01-01 00:00:00</td>\n",
       "      <td>1.7</td>\n",
       "      <td>68.1</td>\n",
       "      <td>1.3</td>\n",
       "      <td>0.0</td>\n",
       "      <td>NaN</td>\n",
       "      <td>NaN</td>\n",
       "      <td>75.6</td>\n",
       "      <td>0.0</td>\n",
       "      <td>0.0</td>\n",
       "    </tr>\n",
       "    <tr>\n",
       "      <th>1</th>\n",
       "      <td>400</td>\n",
       "      <td>2017-01-01 01:00:00</td>\n",
       "      <td>1.4</td>\n",
       "      <td>69.1</td>\n",
       "      <td>1.3</td>\n",
       "      <td>0.0</td>\n",
       "      <td>NaN</td>\n",
       "      <td>NaN</td>\n",
       "      <td>77.8</td>\n",
       "      <td>0.0</td>\n",
       "      <td>0.0</td>\n",
       "    </tr>\n",
       "    <tr>\n",
       "      <th>2</th>\n",
       "      <td>400</td>\n",
       "      <td>2017-01-01 02:00:00</td>\n",
       "      <td>1.2</td>\n",
       "      <td>66.2</td>\n",
       "      <td>1.6</td>\n",
       "      <td>0.0</td>\n",
       "      <td>NaN</td>\n",
       "      <td>NaN</td>\n",
       "      <td>79.6</td>\n",
       "      <td>0.0</td>\n",
       "      <td>0.0</td>\n",
       "    </tr>\n",
       "    <tr>\n",
       "      <th>3</th>\n",
       "      <td>400</td>\n",
       "      <td>2017-01-01 03:00:00</td>\n",
       "      <td>0.5</td>\n",
       "      <td>66.0</td>\n",
       "      <td>1.5</td>\n",
       "      <td>0.0</td>\n",
       "      <td>NaN</td>\n",
       "      <td>NaN</td>\n",
       "      <td>84.4</td>\n",
       "      <td>0.0</td>\n",
       "      <td>0.0</td>\n",
       "    </tr>\n",
       "    <tr>\n",
       "      <th>4</th>\n",
       "      <td>400</td>\n",
       "      <td>2017-01-01 04:00:00</td>\n",
       "      <td>0.6</td>\n",
       "      <td>63.4</td>\n",
       "      <td>0.5</td>\n",
       "      <td>0.0</td>\n",
       "      <td>NaN</td>\n",
       "      <td>NaN</td>\n",
       "      <td>85.6</td>\n",
       "      <td>0.0</td>\n",
       "      <td>0.0</td>\n",
       "    </tr>\n",
       "  </tbody>\n",
       "</table>\n",
       "</div>"
      ],
      "text/plain": [
       "    지점                  일시  기온(°C)  풍향(deg)  풍속(m/s)  강수량(mm)  현지기압(hPa)  \\\n",
       "0  400 2017-01-01 00:00:00     1.7     68.1      1.3      0.0        NaN   \n",
       "1  400 2017-01-01 01:00:00     1.4     69.1      1.3      0.0        NaN   \n",
       "2  400 2017-01-01 02:00:00     1.2     66.2      1.6      0.0        NaN   \n",
       "3  400 2017-01-01 03:00:00     0.5     66.0      1.5      0.0        NaN   \n",
       "4  400 2017-01-01 04:00:00     0.6     63.4      0.5      0.0        NaN   \n",
       "\n",
       "   해면기압(hPa)  습도(%)  일사(MJ/m^2)  일조(hr)  \n",
       "0        NaN   75.6         0.0     0.0  \n",
       "1        NaN   77.8         0.0     0.0  \n",
       "2        NaN   79.6         0.0     0.0  \n",
       "3        NaN   84.4         0.0     0.0  \n",
       "4        NaN   85.6         0.0     0.0  "
      ]
     },
     "execution_count": 4,
     "metadata": {},
     "output_type": "execute_result"
    }
   ],
   "source": [
    "weather.head()"
   ]
  },
  {
   "cell_type": "markdown",
   "metadata": {},
   "source": [
    "### 총 24만4921개의 줄과 11개의 칼럼으로 구성된 DataFrame"
   ]
  },
  {
   "cell_type": "code",
   "execution_count": 5,
   "metadata": {},
   "outputs": [
    {
     "data": {
      "text/plain": [
       "(244921, 11)"
      ]
     },
     "execution_count": 5,
     "metadata": {},
     "output_type": "execute_result"
    }
   ],
   "source": [
    "weather.shape"
   ]
  },
  {
   "cell_type": "code",
   "execution_count": 6,
   "metadata": {
    "scrolled": true
   },
   "outputs": [
    {
     "data": {
      "text/html": [
       "<div>\n",
       "<style scoped>\n",
       "    .dataframe tbody tr th:only-of-type {\n",
       "        vertical-align: middle;\n",
       "    }\n",
       "\n",
       "    .dataframe tbody tr th {\n",
       "        vertical-align: top;\n",
       "    }\n",
       "\n",
       "    .dataframe thead th {\n",
       "        text-align: right;\n",
       "    }\n",
       "</style>\n",
       "<table border=\"1\" class=\"dataframe\">\n",
       "  <thead>\n",
       "    <tr style=\"text-align: right;\">\n",
       "      <th></th>\n",
       "      <th>지점</th>\n",
       "      <th>기온(°C)</th>\n",
       "      <th>풍향(deg)</th>\n",
       "      <th>풍속(m/s)</th>\n",
       "      <th>강수량(mm)</th>\n",
       "      <th>현지기압(hPa)</th>\n",
       "      <th>해면기압(hPa)</th>\n",
       "      <th>습도(%)</th>\n",
       "      <th>일사(MJ/m^2)</th>\n",
       "      <th>일조(hr)</th>\n",
       "    </tr>\n",
       "  </thead>\n",
       "  <tbody>\n",
       "    <tr>\n",
       "      <th>count</th>\n",
       "      <td>244921.000000</td>\n",
       "      <td>244602.000000</td>\n",
       "      <td>244337.000000</td>\n",
       "      <td>244439.000000</td>\n",
       "      <td>243408.000000</td>\n",
       "      <td>17600.000000</td>\n",
       "      <td>17600.000000</td>\n",
       "      <td>176145.000000</td>\n",
       "      <td>192612.000000</td>\n",
       "      <td>200961.000000</td>\n",
       "    </tr>\n",
       "    <tr>\n",
       "      <th>mean</th>\n",
       "      <td>436.184161</td>\n",
       "      <td>13.021154</td>\n",
       "      <td>185.107684</td>\n",
       "      <td>1.642479</td>\n",
       "      <td>0.130368</td>\n",
       "      <td>1007.623352</td>\n",
       "      <td>1010.072466</td>\n",
       "      <td>53.156934</td>\n",
       "      <td>0.001322</td>\n",
       "      <td>0.073022</td>\n",
       "    </tr>\n",
       "    <tr>\n",
       "      <th>std</th>\n",
       "      <td>90.939084</td>\n",
       "      <td>11.011626</td>\n",
       "      <td>114.375354</td>\n",
       "      <td>1.080166</td>\n",
       "      <td>1.262168</td>\n",
       "      <td>78.641429</td>\n",
       "      <td>86.375325</td>\n",
       "      <td>29.840442</td>\n",
       "      <td>0.706138</td>\n",
       "      <td>0.524376</td>\n",
       "    </tr>\n",
       "    <tr>\n",
       "      <th>min</th>\n",
       "      <td>400.000000</td>\n",
       "      <td>-17.500000</td>\n",
       "      <td>0.000000</td>\n",
       "      <td>0.000000</td>\n",
       "      <td>0.000000</td>\n",
       "      <td>-99.900000</td>\n",
       "      <td>-99.800000</td>\n",
       "      <td>0.000000</td>\n",
       "      <td>-74.330000</td>\n",
       "      <td>-3.700000</td>\n",
       "    </tr>\n",
       "    <tr>\n",
       "      <th>25%</th>\n",
       "      <td>407.000000</td>\n",
       "      <td>3.300000</td>\n",
       "      <td>77.400000</td>\n",
       "      <td>0.900000</td>\n",
       "      <td>0.000000</td>\n",
       "      <td>1007.000000</td>\n",
       "      <td>1009.900000</td>\n",
       "      <td>36.200000</td>\n",
       "      <td>0.000000</td>\n",
       "      <td>0.000000</td>\n",
       "    </tr>\n",
       "    <tr>\n",
       "      <th>50%</th>\n",
       "      <td>414.000000</td>\n",
       "      <td>14.500000</td>\n",
       "      <td>206.100000</td>\n",
       "      <td>1.400000</td>\n",
       "      <td>0.000000</td>\n",
       "      <td>1013.500000</td>\n",
       "      <td>1016.500000</td>\n",
       "      <td>56.600000</td>\n",
       "      <td>0.000000</td>\n",
       "      <td>0.000000</td>\n",
       "    </tr>\n",
       "    <tr>\n",
       "      <th>75%</th>\n",
       "      <td>422.000000</td>\n",
       "      <td>22.600000</td>\n",
       "      <td>286.400000</td>\n",
       "      <td>2.200000</td>\n",
       "      <td>0.000000</td>\n",
       "      <td>1020.000000</td>\n",
       "      <td>1023.200000</td>\n",
       "      <td>76.600000</td>\n",
       "      <td>0.000000</td>\n",
       "      <td>0.000000</td>\n",
       "    </tr>\n",
       "    <tr>\n",
       "      <th>max</th>\n",
       "      <td>889.000000</td>\n",
       "      <td>36.400000</td>\n",
       "      <td>360.000000</td>\n",
       "      <td>11.200000</td>\n",
       "      <td>56.500000</td>\n",
       "      <td>1034.700000</td>\n",
       "      <td>1036.900000</td>\n",
       "      <td>99.900000</td>\n",
       "      <td>82.230000</td>\n",
       "      <td>7.300000</td>\n",
       "    </tr>\n",
       "  </tbody>\n",
       "</table>\n",
       "</div>"
      ],
      "text/plain": [
       "                  지점         기온(°C)        풍향(deg)        풍속(m/s)  \\\n",
       "count  244921.000000  244602.000000  244337.000000  244439.000000   \n",
       "mean      436.184161      13.021154     185.107684       1.642479   \n",
       "std        90.939084      11.011626     114.375354       1.080166   \n",
       "min       400.000000     -17.500000       0.000000       0.000000   \n",
       "25%       407.000000       3.300000      77.400000       0.900000   \n",
       "50%       414.000000      14.500000     206.100000       1.400000   \n",
       "75%       422.000000      22.600000     286.400000       2.200000   \n",
       "max       889.000000      36.400000     360.000000      11.200000   \n",
       "\n",
       "             강수량(mm)     현지기압(hPa)     해면기압(hPa)          습도(%)  \\\n",
       "count  243408.000000  17600.000000  17600.000000  176145.000000   \n",
       "mean        0.130368   1007.623352   1010.072466      53.156934   \n",
       "std         1.262168     78.641429     86.375325      29.840442   \n",
       "min         0.000000    -99.900000    -99.800000       0.000000   \n",
       "25%         0.000000   1007.000000   1009.900000      36.200000   \n",
       "50%         0.000000   1013.500000   1016.500000      56.600000   \n",
       "75%         0.000000   1020.000000   1023.200000      76.600000   \n",
       "max        56.500000   1034.700000   1036.900000      99.900000   \n",
       "\n",
       "          일사(MJ/m^2)         일조(hr)  \n",
       "count  192612.000000  200961.000000  \n",
       "mean        0.001322       0.073022  \n",
       "std         0.706138       0.524376  \n",
       "min       -74.330000      -3.700000  \n",
       "25%         0.000000       0.000000  \n",
       "50%         0.000000       0.000000  \n",
       "75%         0.000000       0.000000  \n",
       "max        82.230000       7.300000  "
      ]
     },
     "execution_count": 6,
     "metadata": {},
     "output_type": "execute_result"
    }
   ],
   "source": [
    "weather.describe()"
   ]
  },
  {
   "cell_type": "code",
   "execution_count": 7,
   "metadata": {},
   "outputs": [
    {
     "name": "stdout",
     "output_type": "stream",
     "text": [
      "<class 'pandas.core.frame.DataFrame'>\n",
      "RangeIndex: 244921 entries, 0 to 244920\n",
      "Data columns (total 11 columns):\n",
      "지점            244921 non-null int64\n",
      "일시            244921 non-null datetime64[ns]\n",
      "기온(°C)        244602 non-null float64\n",
      "풍향(deg)       244337 non-null float64\n",
      "풍속(m/s)       244439 non-null float64\n",
      "강수량(mm)       243408 non-null float64\n",
      "현지기압(hPa)     17600 non-null float64\n",
      "해면기압(hPa)     17600 non-null float64\n",
      "습도(%)         176145 non-null float64\n",
      "일사(MJ/m^2)    192612 non-null float64\n",
      "일조(hr)        200961 non-null float64\n",
      "dtypes: datetime64[ns](1), float64(9), int64(1)\n",
      "memory usage: 20.6 MB\n"
     ]
    }
   ],
   "source": [
    "weather.info()"
   ]
  },
  {
   "cell_type": "markdown",
   "metadata": {},
   "source": [
    "### 현지기압과 해면기압의 null값은 95%이상. 필요없는 칼럼값이기 때문에 drop"
   ]
  },
  {
   "cell_type": "code",
   "execution_count": 8,
   "metadata": {},
   "outputs": [
    {
     "data": {
      "text/plain": [
       "지점                 0\n",
       "일시                 0\n",
       "기온(°C)           319\n",
       "풍향(deg)          584\n",
       "풍속(m/s)          482\n",
       "강수량(mm)         1513\n",
       "현지기압(hPa)     227321\n",
       "해면기압(hPa)     227321\n",
       "습도(%)          68776\n",
       "일사(MJ/m^2)     52309\n",
       "일조(hr)         43960\n",
       "dtype: int64"
      ]
     },
     "execution_count": 8,
     "metadata": {},
     "output_type": "execute_result"
    }
   ],
   "source": [
    "weather.isnull().sum()"
   ]
  },
  {
   "cell_type": "code",
   "execution_count": 9,
   "metadata": {},
   "outputs": [
    {
     "data": {
      "text/plain": [
       "Index(['지점', '일시', '기온(°C)', '풍향(deg)', '풍속(m/s)', '강수량(mm)', '현지기압(hPa)',\n",
       "       '해면기압(hPa)', '습도(%)', '일사(MJ/m^2)', '일조(hr)'],\n",
       "      dtype='object')"
      ]
     },
     "execution_count": 9,
     "metadata": {},
     "output_type": "execute_result"
    }
   ],
   "source": [
    "weather.columns"
   ]
  },
  {
   "cell_type": "code",
   "execution_count": 10,
   "metadata": {},
   "outputs": [],
   "source": [
    "weather = weather.drop('현지기압(hPa)', axis=1)"
   ]
  },
  {
   "cell_type": "code",
   "execution_count": 11,
   "metadata": {},
   "outputs": [],
   "source": [
    "weather = weather.drop('해면기압(hPa)', axis=1)"
   ]
  },
  {
   "cell_type": "markdown",
   "metadata": {},
   "source": [
    "### 필요한 데이터만 뽑고 wdata 변수안에 df생성"
   ]
  },
  {
   "cell_type": "code",
   "execution_count": 12,
   "metadata": {},
   "outputs": [
    {
     "data": {
      "text/html": [
       "<div>\n",
       "<style scoped>\n",
       "    .dataframe tbody tr th:only-of-type {\n",
       "        vertical-align: middle;\n",
       "    }\n",
       "\n",
       "    .dataframe tbody tr th {\n",
       "        vertical-align: top;\n",
       "    }\n",
       "\n",
       "    .dataframe thead th {\n",
       "        text-align: right;\n",
       "    }\n",
       "</style>\n",
       "<table border=\"1\" class=\"dataframe\">\n",
       "  <thead>\n",
       "    <tr style=\"text-align: right;\">\n",
       "      <th></th>\n",
       "      <th>지점</th>\n",
       "      <th>일시</th>\n",
       "      <th>기온(°C)</th>\n",
       "      <th>풍향(deg)</th>\n",
       "      <th>풍속(m/s)</th>\n",
       "      <th>강수량(mm)</th>\n",
       "      <th>습도(%)</th>\n",
       "      <th>일사(MJ/m^2)</th>\n",
       "      <th>일조(hr)</th>\n",
       "    </tr>\n",
       "  </thead>\n",
       "  <tbody>\n",
       "    <tr>\n",
       "      <th>0</th>\n",
       "      <td>400</td>\n",
       "      <td>2017-01-01 00:00:00</td>\n",
       "      <td>1.7</td>\n",
       "      <td>68.1</td>\n",
       "      <td>1.3</td>\n",
       "      <td>0.0</td>\n",
       "      <td>75.6</td>\n",
       "      <td>0.0</td>\n",
       "      <td>0.0</td>\n",
       "    </tr>\n",
       "    <tr>\n",
       "      <th>1</th>\n",
       "      <td>400</td>\n",
       "      <td>2017-01-01 01:00:00</td>\n",
       "      <td>1.4</td>\n",
       "      <td>69.1</td>\n",
       "      <td>1.3</td>\n",
       "      <td>0.0</td>\n",
       "      <td>77.8</td>\n",
       "      <td>0.0</td>\n",
       "      <td>0.0</td>\n",
       "    </tr>\n",
       "    <tr>\n",
       "      <th>2</th>\n",
       "      <td>400</td>\n",
       "      <td>2017-01-01 02:00:00</td>\n",
       "      <td>1.2</td>\n",
       "      <td>66.2</td>\n",
       "      <td>1.6</td>\n",
       "      <td>0.0</td>\n",
       "      <td>79.6</td>\n",
       "      <td>0.0</td>\n",
       "      <td>0.0</td>\n",
       "    </tr>\n",
       "    <tr>\n",
       "      <th>3</th>\n",
       "      <td>400</td>\n",
       "      <td>2017-01-01 03:00:00</td>\n",
       "      <td>0.5</td>\n",
       "      <td>66.0</td>\n",
       "      <td>1.5</td>\n",
       "      <td>0.0</td>\n",
       "      <td>84.4</td>\n",
       "      <td>0.0</td>\n",
       "      <td>0.0</td>\n",
       "    </tr>\n",
       "    <tr>\n",
       "      <th>4</th>\n",
       "      <td>400</td>\n",
       "      <td>2017-01-01 04:00:00</td>\n",
       "      <td>0.6</td>\n",
       "      <td>63.4</td>\n",
       "      <td>0.5</td>\n",
       "      <td>0.0</td>\n",
       "      <td>85.6</td>\n",
       "      <td>0.0</td>\n",
       "      <td>0.0</td>\n",
       "    </tr>\n",
       "  </tbody>\n",
       "</table>\n",
       "</div>"
      ],
      "text/plain": [
       "    지점                  일시  기온(°C)  풍향(deg)  풍속(m/s)  강수량(mm)  습도(%)  \\\n",
       "0  400 2017-01-01 00:00:00     1.7     68.1      1.3      0.0   75.6   \n",
       "1  400 2017-01-01 01:00:00     1.4     69.1      1.3      0.0   77.8   \n",
       "2  400 2017-01-01 02:00:00     1.2     66.2      1.6      0.0   79.6   \n",
       "3  400 2017-01-01 03:00:00     0.5     66.0      1.5      0.0   84.4   \n",
       "4  400 2017-01-01 04:00:00     0.6     63.4      0.5      0.0   85.6   \n",
       "\n",
       "   일사(MJ/m^2)  일조(hr)  \n",
       "0         0.0     0.0  \n",
       "1         0.0     0.0  \n",
       "2         0.0     0.0  \n",
       "3         0.0     0.0  \n",
       "4         0.0     0.0  "
      ]
     },
     "execution_count": 12,
     "metadata": {},
     "output_type": "execute_result"
    }
   ],
   "source": [
    "weather.head()"
   ]
  },
  {
   "cell_type": "code",
   "execution_count": 13,
   "metadata": {},
   "outputs": [
    {
     "data": {
      "text/html": [
       "<div>\n",
       "<style scoped>\n",
       "    .dataframe tbody tr th:only-of-type {\n",
       "        vertical-align: middle;\n",
       "    }\n",
       "\n",
       "    .dataframe tbody tr th {\n",
       "        vertical-align: top;\n",
       "    }\n",
       "\n",
       "    .dataframe thead th {\n",
       "        text-align: right;\n",
       "    }\n",
       "</style>\n",
       "<table border=\"1\" class=\"dataframe\">\n",
       "  <thead>\n",
       "    <tr style=\"text-align: right;\">\n",
       "      <th></th>\n",
       "      <th>지점</th>\n",
       "      <th>일시</th>\n",
       "      <th>기온(°C)</th>\n",
       "      <th>풍향(deg)</th>\n",
       "      <th>풍속(m/s)</th>\n",
       "      <th>강수량(mm)</th>\n",
       "      <th>습도(%)</th>\n",
       "      <th>일사(MJ/m^2)</th>\n",
       "      <th>일조(hr)</th>\n",
       "    </tr>\n",
       "  </thead>\n",
       "  <tbody>\n",
       "    <tr>\n",
       "      <th>0</th>\n",
       "      <td>400</td>\n",
       "      <td>2017-01-01 00:00:00</td>\n",
       "      <td>1.7</td>\n",
       "      <td>68.1</td>\n",
       "      <td>1.3</td>\n",
       "      <td>0.0</td>\n",
       "      <td>75.6</td>\n",
       "      <td>0.0</td>\n",
       "      <td>0.0</td>\n",
       "    </tr>\n",
       "    <tr>\n",
       "      <th>1</th>\n",
       "      <td>400</td>\n",
       "      <td>2017-01-01 01:00:00</td>\n",
       "      <td>1.4</td>\n",
       "      <td>69.1</td>\n",
       "      <td>1.3</td>\n",
       "      <td>0.0</td>\n",
       "      <td>77.8</td>\n",
       "      <td>0.0</td>\n",
       "      <td>0.0</td>\n",
       "    </tr>\n",
       "    <tr>\n",
       "      <th>2</th>\n",
       "      <td>400</td>\n",
       "      <td>2017-01-01 02:00:00</td>\n",
       "      <td>1.2</td>\n",
       "      <td>66.2</td>\n",
       "      <td>1.6</td>\n",
       "      <td>0.0</td>\n",
       "      <td>79.6</td>\n",
       "      <td>0.0</td>\n",
       "      <td>0.0</td>\n",
       "    </tr>\n",
       "    <tr>\n",
       "      <th>3</th>\n",
       "      <td>400</td>\n",
       "      <td>2017-01-01 03:00:00</td>\n",
       "      <td>0.5</td>\n",
       "      <td>66.0</td>\n",
       "      <td>1.5</td>\n",
       "      <td>0.0</td>\n",
       "      <td>84.4</td>\n",
       "      <td>0.0</td>\n",
       "      <td>0.0</td>\n",
       "    </tr>\n",
       "    <tr>\n",
       "      <th>4</th>\n",
       "      <td>400</td>\n",
       "      <td>2017-01-01 04:00:00</td>\n",
       "      <td>0.6</td>\n",
       "      <td>63.4</td>\n",
       "      <td>0.5</td>\n",
       "      <td>0.0</td>\n",
       "      <td>85.6</td>\n",
       "      <td>0.0</td>\n",
       "      <td>0.0</td>\n",
       "    </tr>\n",
       "  </tbody>\n",
       "</table>\n",
       "</div>"
      ],
      "text/plain": [
       "    지점                  일시  기온(°C)  풍향(deg)  풍속(m/s)  강수량(mm)  습도(%)  \\\n",
       "0  400 2017-01-01 00:00:00     1.7     68.1      1.3      0.0   75.6   \n",
       "1  400 2017-01-01 01:00:00     1.4     69.1      1.3      0.0   77.8   \n",
       "2  400 2017-01-01 02:00:00     1.2     66.2      1.6      0.0   79.6   \n",
       "3  400 2017-01-01 03:00:00     0.5     66.0      1.5      0.0   84.4   \n",
       "4  400 2017-01-01 04:00:00     0.6     63.4      0.5      0.0   85.6   \n",
       "\n",
       "   일사(MJ/m^2)  일조(hr)  \n",
       "0         0.0     0.0  \n",
       "1         0.0     0.0  \n",
       "2         0.0     0.0  \n",
       "3         0.0     0.0  \n",
       "4         0.0     0.0  "
      ]
     },
     "execution_count": 13,
     "metadata": {},
     "output_type": "execute_result"
    }
   ],
   "source": [
    "wdata = weather\n",
    "wdata.head()"
   ]
  },
  {
   "cell_type": "markdown",
   "metadata": {},
   "source": [
    "### 연도별, 월별, 날짜별, 시간별 대로의 기온,풍향,풍속 등 시각화를 위해 나눌 수 있음을 보여줌"
   ]
  },
  {
   "cell_type": "code",
   "execution_count": 14,
   "metadata": {},
   "outputs": [],
   "source": [
    "#wdata[\"year\"] = wdata[\"일시\"].dt.year\n",
    "#wdata['month'] = wdata['일시'].dt.month\n",
    "#wdata['day'] = wdata['일시'].dt.day\n",
    "#wdata['hour'] = wdata['일시'].dt.hour"
   ]
  },
  {
   "cell_type": "markdown",
   "metadata": {},
   "source": [
    "### dt 칼럼을 통해 후에 음주운전사고데이터와 일치 값을 찾기 위해 dt를 key로 만듦"
   ]
  },
  {
   "cell_type": "code",
   "execution_count": 15,
   "metadata": {},
   "outputs": [
    {
     "data": {
      "text/html": [
       "<div>\n",
       "<style scoped>\n",
       "    .dataframe tbody tr th:only-of-type {\n",
       "        vertical-align: middle;\n",
       "    }\n",
       "\n",
       "    .dataframe tbody tr th {\n",
       "        vertical-align: top;\n",
       "    }\n",
       "\n",
       "    .dataframe thead th {\n",
       "        text-align: right;\n",
       "    }\n",
       "</style>\n",
       "<table border=\"1\" class=\"dataframe\">\n",
       "  <thead>\n",
       "    <tr style=\"text-align: right;\">\n",
       "      <th></th>\n",
       "      <th>지점</th>\n",
       "      <th>일시</th>\n",
       "      <th>기온(°C)</th>\n",
       "      <th>풍향(deg)</th>\n",
       "      <th>풍속(m/s)</th>\n",
       "      <th>강수량(mm)</th>\n",
       "      <th>습도(%)</th>\n",
       "      <th>일사(MJ/m^2)</th>\n",
       "      <th>일조(hr)</th>\n",
       "      <th>dt</th>\n",
       "    </tr>\n",
       "  </thead>\n",
       "  <tbody>\n",
       "    <tr>\n",
       "      <th>0</th>\n",
       "      <td>400</td>\n",
       "      <td>2017-01-01 00:00:00</td>\n",
       "      <td>1.7</td>\n",
       "      <td>68.1</td>\n",
       "      <td>1.3</td>\n",
       "      <td>0.0</td>\n",
       "      <td>75.6</td>\n",
       "      <td>0.0</td>\n",
       "      <td>0.0</td>\n",
       "      <td>2017010100</td>\n",
       "    </tr>\n",
       "    <tr>\n",
       "      <th>1</th>\n",
       "      <td>400</td>\n",
       "      <td>2017-01-01 01:00:00</td>\n",
       "      <td>1.4</td>\n",
       "      <td>69.1</td>\n",
       "      <td>1.3</td>\n",
       "      <td>0.0</td>\n",
       "      <td>77.8</td>\n",
       "      <td>0.0</td>\n",
       "      <td>0.0</td>\n",
       "      <td>2017010101</td>\n",
       "    </tr>\n",
       "    <tr>\n",
       "      <th>2</th>\n",
       "      <td>400</td>\n",
       "      <td>2017-01-01 02:00:00</td>\n",
       "      <td>1.2</td>\n",
       "      <td>66.2</td>\n",
       "      <td>1.6</td>\n",
       "      <td>0.0</td>\n",
       "      <td>79.6</td>\n",
       "      <td>0.0</td>\n",
       "      <td>0.0</td>\n",
       "      <td>2017010102</td>\n",
       "    </tr>\n",
       "    <tr>\n",
       "      <th>3</th>\n",
       "      <td>400</td>\n",
       "      <td>2017-01-01 03:00:00</td>\n",
       "      <td>0.5</td>\n",
       "      <td>66.0</td>\n",
       "      <td>1.5</td>\n",
       "      <td>0.0</td>\n",
       "      <td>84.4</td>\n",
       "      <td>0.0</td>\n",
       "      <td>0.0</td>\n",
       "      <td>2017010103</td>\n",
       "    </tr>\n",
       "    <tr>\n",
       "      <th>4</th>\n",
       "      <td>400</td>\n",
       "      <td>2017-01-01 04:00:00</td>\n",
       "      <td>0.6</td>\n",
       "      <td>63.4</td>\n",
       "      <td>0.5</td>\n",
       "      <td>0.0</td>\n",
       "      <td>85.6</td>\n",
       "      <td>0.0</td>\n",
       "      <td>0.0</td>\n",
       "      <td>2017010104</td>\n",
       "    </tr>\n",
       "    <tr>\n",
       "      <th>5</th>\n",
       "      <td>400</td>\n",
       "      <td>2017-01-01 05:00:00</td>\n",
       "      <td>0.4</td>\n",
       "      <td>63.2</td>\n",
       "      <td>0.8</td>\n",
       "      <td>0.0</td>\n",
       "      <td>85.4</td>\n",
       "      <td>0.0</td>\n",
       "      <td>0.0</td>\n",
       "      <td>2017010105</td>\n",
       "    </tr>\n",
       "    <tr>\n",
       "      <th>6</th>\n",
       "      <td>400</td>\n",
       "      <td>2017-01-01 06:00:00</td>\n",
       "      <td>-0.2</td>\n",
       "      <td>68.5</td>\n",
       "      <td>1.6</td>\n",
       "      <td>0.0</td>\n",
       "      <td>89.2</td>\n",
       "      <td>0.0</td>\n",
       "      <td>0.0</td>\n",
       "      <td>2017010106</td>\n",
       "    </tr>\n",
       "    <tr>\n",
       "      <th>7</th>\n",
       "      <td>400</td>\n",
       "      <td>2017-01-01 07:00:00</td>\n",
       "      <td>-0.1</td>\n",
       "      <td>78.6</td>\n",
       "      <td>0.5</td>\n",
       "      <td>0.0</td>\n",
       "      <td>89.4</td>\n",
       "      <td>0.0</td>\n",
       "      <td>0.0</td>\n",
       "      <td>2017010107</td>\n",
       "    </tr>\n",
       "    <tr>\n",
       "      <th>8</th>\n",
       "      <td>400</td>\n",
       "      <td>2017-01-01 08:00:00</td>\n",
       "      <td>0.1</td>\n",
       "      <td>67.8</td>\n",
       "      <td>1.1</td>\n",
       "      <td>0.0</td>\n",
       "      <td>87.6</td>\n",
       "      <td>0.0</td>\n",
       "      <td>0.0</td>\n",
       "      <td>2017010108</td>\n",
       "    </tr>\n",
       "    <tr>\n",
       "      <th>9</th>\n",
       "      <td>400</td>\n",
       "      <td>2017-01-01 09:00:00</td>\n",
       "      <td>0.5</td>\n",
       "      <td>70.0</td>\n",
       "      <td>1.7</td>\n",
       "      <td>0.0</td>\n",
       "      <td>88.6</td>\n",
       "      <td>0.0</td>\n",
       "      <td>0.0</td>\n",
       "      <td>2017010109</td>\n",
       "    </tr>\n",
       "  </tbody>\n",
       "</table>\n",
       "</div>"
      ],
      "text/plain": [
       "    지점                  일시  기온(°C)  풍향(deg)  풍속(m/s)  강수량(mm)  습도(%)  \\\n",
       "0  400 2017-01-01 00:00:00     1.7     68.1      1.3      0.0   75.6   \n",
       "1  400 2017-01-01 01:00:00     1.4     69.1      1.3      0.0   77.8   \n",
       "2  400 2017-01-01 02:00:00     1.2     66.2      1.6      0.0   79.6   \n",
       "3  400 2017-01-01 03:00:00     0.5     66.0      1.5      0.0   84.4   \n",
       "4  400 2017-01-01 04:00:00     0.6     63.4      0.5      0.0   85.6   \n",
       "5  400 2017-01-01 05:00:00     0.4     63.2      0.8      0.0   85.4   \n",
       "6  400 2017-01-01 06:00:00    -0.2     68.5      1.6      0.0   89.2   \n",
       "7  400 2017-01-01 07:00:00    -0.1     78.6      0.5      0.0   89.4   \n",
       "8  400 2017-01-01 08:00:00     0.1     67.8      1.1      0.0   87.6   \n",
       "9  400 2017-01-01 09:00:00     0.5     70.0      1.7      0.0   88.6   \n",
       "\n",
       "   일사(MJ/m^2)  일조(hr)          dt  \n",
       "0         0.0     0.0  2017010100  \n",
       "1         0.0     0.0  2017010101  \n",
       "2         0.0     0.0  2017010102  \n",
       "3         0.0     0.0  2017010103  \n",
       "4         0.0     0.0  2017010104  \n",
       "5         0.0     0.0  2017010105  \n",
       "6         0.0     0.0  2017010106  \n",
       "7         0.0     0.0  2017010107  \n",
       "8         0.0     0.0  2017010108  \n",
       "9         0.0     0.0  2017010109  "
      ]
     },
     "execution_count": 15,
     "metadata": {},
     "output_type": "execute_result"
    }
   ],
   "source": [
    "wdata['dt'] = wdata['일시'].dt.strftime('%Y%m%d%H')\n",
    "\n",
    "wdata.head(10)"
   ]
  },
  {
   "cell_type": "code",
   "execution_count": 16,
   "metadata": {},
   "outputs": [],
   "source": [
    "#eHours = datetime.timedelta(hours=8)\n",
    "#wdata['8hoursago'] = wdata['일시']- eHours\n",
    "\n",
    "#wdata.head()"
   ]
  },
  {
   "cell_type": "code",
   "execution_count": 17,
   "metadata": {},
   "outputs": [
    {
     "data": {
      "text/plain": [
       "(244921, 10)"
      ]
     },
     "execution_count": 17,
     "metadata": {},
     "output_type": "execute_result"
    }
   ],
   "source": [
    "wdata.shape"
   ]
  },
  {
   "cell_type": "markdown",
   "metadata": {},
   "source": [
    "### 행 8개씩 끊어 전체 평균을 구하기 위해 numpy.mean과 iloc을 사용"
   ]
  },
  {
   "cell_type": "code",
   "execution_count": 18,
   "metadata": {
    "scrolled": true
   },
   "outputs": [
    {
     "name": "stdout",
     "output_type": "stream",
     "text": [
      "기온(°C)         0.6875\n",
      "풍향(deg)       67.8875\n",
      "풍속(m/s)        1.1375\n",
      "강수량(mm)        0.0000\n",
      "습도(%)         83.3750\n",
      "일사(MJ/m^2)     0.0000\n",
      "dtype: float64\n"
     ]
    }
   ],
   "source": [
    "meanduring8 = []\n",
    "meanduring8 = np.mean(wdata.iloc[0:8, 2:8])\n",
    "\n",
    "print(meanduring8)"
   ]
  },
  {
   "cell_type": "code",
   "execution_count": 21,
   "metadata": {},
   "outputs": [],
   "source": [
    "#10개로 테스트\n",
    "\n",
    "for i in range(0, 10):\n",
    "    tmp = []\n",
    "\n",
    "    \n",
    "    for j in range(0,10):\n",
    "        tmp2 = []\n",
    "        tmp2 = np.mean(wdata.iloc[j:8+j, 2:5])\n",
    "        tmp.append(tmp2)\n"
   ]
  },
  {
   "cell_type": "code",
   "execution_count": 22,
   "metadata": {},
   "outputs": [
    {
     "data": {
      "text/plain": [
       "[기온(°C)      0.6875\n",
       " 풍향(deg)    67.8875\n",
       " 풍속(m/s)     1.1375\n",
       " dtype: float64, 기온(°C)      0.4875\n",
       " 풍향(deg)    67.8500\n",
       " 풍속(m/s)     1.1125\n",
       " dtype: float64, 기온(°C)      0.3750\n",
       " 풍향(deg)    67.9625\n",
       " 풍속(m/s)     1.1625\n",
       " dtype: float64, 기온(°C)      0.3500\n",
       " 풍향(deg)    67.4500\n",
       " 풍속(m/s)     1.0875\n",
       " dtype: float64, 기온(°C)      0.5625\n",
       " 풍향(deg)    65.9625\n",
       " 풍속(m/s)     1.0625\n",
       " dtype: float64, 기온(°C)      0.9625\n",
       " 풍향(deg)    65.0750\n",
       " 풍속(m/s)     1.1250\n",
       " dtype: float64, 기온(°C)      1.65\n",
       " 풍향(deg)    64.40\n",
       " 풍속(m/s)     1.15\n",
       " dtype: float64, 기온(°C)      2.450\n",
       " 풍향(deg)    64.225\n",
       " 풍속(m/s)     1.150\n",
       " dtype: float64, 기온(°C)      3.2875\n",
       " 풍향(deg)    63.1375\n",
       " 풍속(m/s)     1.2375\n",
       " dtype: float64, 기온(°C)      4.125\n",
       " 풍향(deg)    62.750\n",
       " 풍속(m/s)     1.275\n",
       " dtype: float64]"
      ]
     },
     "execution_count": 22,
     "metadata": {},
     "output_type": "execute_result"
    }
   ],
   "source": [
    "tmp"
   ]
  },
  {
   "cell_type": "code",
   "execution_count": null,
   "metadata": {},
   "outputs": [],
   "source": [
    "rows = 244921\n",
    "num = rows-7\n",
    "\n",
    "for i in range(0, 100000):\n",
    "    tmp = []\n",
    "\n",
    "    \n",
    "    for j in range(0,100000):\n",
    "        tmp2 = []\n",
    "        tmp2 = np.mean(wdata.iloc[j:8+j, 2:5])\n",
    "        tmp.append(tmp2)\n"
   ]
  },
  {
   "cell_type": "code",
   "execution_count": 23,
   "metadata": {},
   "outputs": [
    {
     "data": {
      "text/plain": [
       "(244921, 10)"
      ]
     },
     "execution_count": 23,
     "metadata": {},
     "output_type": "execute_result"
    }
   ],
   "source": [
    "wdata.shape"
   ]
  },
  {
   "cell_type": "code",
   "execution_count": 28,
   "metadata": {},
   "outputs": [],
   "source": [
    "from glob import glob\n",
    "\n",
    "acc_data = glob('accdata/*.csv')\n",
    "accdata = []\n",
    "\n",
    "for i in acc_data:\n",
    "    accdata.append(pd.read_csv(i, encoding ='EUC-KR')) \n",
    "\n",
    "# 리스트 형태로 출력됨 - accdata\n",
    "\n",
    "#accdata"
   ]
  },
  {
   "cell_type": "code",
   "execution_count": null,
   "metadata": {},
   "outputs": [],
   "source": [
    "pd.DataFrame"
   ]
  }
 ],
 "metadata": {
  "kernelspec": {
   "display_name": "Python 3",
   "language": "python",
   "name": "python3"
  },
  "language_info": {
   "codemirror_mode": {
    "name": "ipython",
    "version": 3
   },
   "file_extension": ".py",
   "mimetype": "text/x-python",
   "name": "python",
   "nbconvert_exporter": "python",
   "pygments_lexer": "ipython3",
   "version": "3.6.5"
  }
 },
 "nbformat": 4,
 "nbformat_minor": 2
}
