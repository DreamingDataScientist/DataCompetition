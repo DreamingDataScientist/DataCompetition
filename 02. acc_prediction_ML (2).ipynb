{
 "cells": [
  {
   "cell_type": "markdown",
   "metadata": {},
   "source": [
    "# 날씨 변수에 따른 음주운전사고 예측을 위한 머신러닝\n"
   ]
  },
  {
   "cell_type": "code",
   "execution_count": 1,
   "metadata": {},
   "outputs": [],
   "source": [
    "import pandas as pd"
   ]
  },
  {
   "cell_type": "markdown",
   "metadata": {},
   "source": [
    "## 1. 데이터 불러오기"
   ]
  },
  {
   "cell_type": "code",
   "execution_count": 2,
   "metadata": {},
   "outputs": [],
   "source": [
    "data = pd.read_csv('aws_acci_seoul_2017.csv')"
   ]
  },
  {
   "cell_type": "code",
   "execution_count": 3,
   "metadata": {},
   "outputs": [
    {
     "data": {
      "text/html": [
       "<div>\n",
       "<style scoped>\n",
       "    .dataframe tbody tr th:only-of-type {\n",
       "        vertical-align: middle;\n",
       "    }\n",
       "\n",
       "    .dataframe tbody tr th {\n",
       "        vertical-align: top;\n",
       "    }\n",
       "\n",
       "    .dataframe thead th {\n",
       "        text-align: right;\n",
       "    }\n",
       "</style>\n",
       "<table border=\"1\" class=\"dataframe\">\n",
       "  <thead>\n",
       "    <tr style=\"text-align: right;\">\n",
       "      <th></th>\n",
       "      <th>지점일시</th>\n",
       "      <th>지점</th>\n",
       "      <th>일시</th>\n",
       "      <th>8h_celsius</th>\n",
       "      <th>8h_windD</th>\n",
       "      <th>8h_windV</th>\n",
       "      <th>8h_precipitaiton</th>\n",
       "      <th>8h_spotAtoPressure</th>\n",
       "      <th>8h_seaAtoPressure</th>\n",
       "      <th>8h_humidity</th>\n",
       "      <th>8h_insolation</th>\n",
       "      <th>8h_sunshine</th>\n",
       "      <th>사고번호</th>\n",
       "      <th>발생요일</th>\n",
       "      <th>발생시군구</th>\n",
       "      <th>사고내용</th>\n",
       "      <th>음주사고발생</th>\n",
       "    </tr>\n",
       "  </thead>\n",
       "  <tbody>\n",
       "    <tr>\n",
       "      <th>0</th>\n",
       "      <td>4.002017e+12</td>\n",
       "      <td>400</td>\n",
       "      <td>2017010100</td>\n",
       "      <td>0.0</td>\n",
       "      <td>0.0</td>\n",
       "      <td>0.0</td>\n",
       "      <td>0.0</td>\n",
       "      <td>0.0</td>\n",
       "      <td>0.0</td>\n",
       "      <td>0.0</td>\n",
       "      <td>0.0</td>\n",
       "      <td>0.0</td>\n",
       "      <td>NaN</td>\n",
       "      <td>NaN</td>\n",
       "      <td>NaN</td>\n",
       "      <td>NaN</td>\n",
       "      <td>False</td>\n",
       "    </tr>\n",
       "    <tr>\n",
       "      <th>1</th>\n",
       "      <td>4.002017e+12</td>\n",
       "      <td>400</td>\n",
       "      <td>2017010101</td>\n",
       "      <td>0.0</td>\n",
       "      <td>0.0</td>\n",
       "      <td>0.0</td>\n",
       "      <td>0.0</td>\n",
       "      <td>0.0</td>\n",
       "      <td>0.0</td>\n",
       "      <td>0.0</td>\n",
       "      <td>0.0</td>\n",
       "      <td>0.0</td>\n",
       "      <td>NaN</td>\n",
       "      <td>NaN</td>\n",
       "      <td>NaN</td>\n",
       "      <td>NaN</td>\n",
       "      <td>False</td>\n",
       "    </tr>\n",
       "    <tr>\n",
       "      <th>2</th>\n",
       "      <td>4.002017e+12</td>\n",
       "      <td>400</td>\n",
       "      <td>2017010102</td>\n",
       "      <td>0.0</td>\n",
       "      <td>0.0</td>\n",
       "      <td>0.0</td>\n",
       "      <td>0.0</td>\n",
       "      <td>0.0</td>\n",
       "      <td>0.0</td>\n",
       "      <td>0.0</td>\n",
       "      <td>0.0</td>\n",
       "      <td>0.0</td>\n",
       "      <td>NaN</td>\n",
       "      <td>NaN</td>\n",
       "      <td>NaN</td>\n",
       "      <td>NaN</td>\n",
       "      <td>False</td>\n",
       "    </tr>\n",
       "  </tbody>\n",
       "</table>\n",
       "</div>"
      ],
      "text/plain": [
       "           지점일시   지점          일시  8h_celsius  8h_windD  8h_windV  \\\n",
       "0  4.002017e+12  400  2017010100         0.0       0.0       0.0   \n",
       "1  4.002017e+12  400  2017010101         0.0       0.0       0.0   \n",
       "2  4.002017e+12  400  2017010102         0.0       0.0       0.0   \n",
       "\n",
       "   8h_precipitaiton  8h_spotAtoPressure  8h_seaAtoPressure  8h_humidity  \\\n",
       "0               0.0                 0.0                0.0          0.0   \n",
       "1               0.0                 0.0                0.0          0.0   \n",
       "2               0.0                 0.0                0.0          0.0   \n",
       "\n",
       "   8h_insolation  8h_sunshine  사고번호 발생요일 발생시군구 사고내용  음주사고발생  \n",
       "0            0.0          0.0   NaN  NaN   NaN  NaN   False  \n",
       "1            0.0          0.0   NaN  NaN   NaN  NaN   False  \n",
       "2            0.0          0.0   NaN  NaN   NaN  NaN   False  "
      ]
     },
     "execution_count": 3,
     "metadata": {},
     "output_type": "execute_result"
    }
   ],
   "source": [
    "data.head(3)"
   ]
  },
  {
   "cell_type": "code",
   "execution_count": 4,
   "metadata": {},
   "outputs": [],
   "source": [
    "data['음주사고발생'] = data['음주사고발생'].astype('int')"
   ]
  },
  {
   "cell_type": "code",
   "execution_count": 5,
   "metadata": {},
   "outputs": [
    {
     "name": "stdout",
     "output_type": "stream",
     "text": [
      "2825\n",
      "(244988, 17)\n"
     ]
    }
   ],
   "source": [
    "data = data.sort_values(by='음주사고발생',  ascending=False)\n",
    "\n",
    "print(len(data[data['음주사고발생'] == 1]))\n",
    "print(data.shape)\n",
    "\n",
    "data1 = data[:6000]"
   ]
  },
  {
   "cell_type": "code",
   "execution_count": 6,
   "metadata": {},
   "outputs": [
    {
     "data": {
      "text/html": [
       "<div>\n",
       "<style scoped>\n",
       "    .dataframe tbody tr th:only-of-type {\n",
       "        vertical-align: middle;\n",
       "    }\n",
       "\n",
       "    .dataframe tbody tr th {\n",
       "        vertical-align: top;\n",
       "    }\n",
       "\n",
       "    .dataframe thead th {\n",
       "        text-align: right;\n",
       "    }\n",
       "</style>\n",
       "<table border=\"1\" class=\"dataframe\">\n",
       "  <thead>\n",
       "    <tr style=\"text-align: right;\">\n",
       "      <th></th>\n",
       "      <th>지점일시</th>\n",
       "      <th>지점</th>\n",
       "      <th>일시</th>\n",
       "      <th>8h_celsius</th>\n",
       "      <th>8h_windD</th>\n",
       "      <th>8h_windV</th>\n",
       "      <th>8h_precipitaiton</th>\n",
       "      <th>8h_spotAtoPressure</th>\n",
       "      <th>8h_seaAtoPressure</th>\n",
       "      <th>8h_humidity</th>\n",
       "      <th>8h_insolation</th>\n",
       "      <th>8h_sunshine</th>\n",
       "      <th>사고번호</th>\n",
       "      <th>발생요일</th>\n",
       "      <th>발생시군구</th>\n",
       "      <th>사고내용</th>\n",
       "      <th>음주사고발생</th>\n",
       "    </tr>\n",
       "  </thead>\n",
       "  <tbody>\n",
       "    <tr>\n",
       "      <th>167016</th>\n",
       "      <td>4.192017e+12</td>\n",
       "      <td>419</td>\n",
       "      <td>2017020515</td>\n",
       "      <td>0.8625</td>\n",
       "      <td>210.3000</td>\n",
       "      <td>1.5375</td>\n",
       "      <td>0.0625</td>\n",
       "      <td>NaN</td>\n",
       "      <td>NaN</td>\n",
       "      <td>0.0000</td>\n",
       "      <td>0.0</td>\n",
       "      <td>0.0</td>\n",
       "      <td>NaN</td>\n",
       "      <td>NaN</td>\n",
       "      <td>NaN</td>\n",
       "      <td>NaN</td>\n",
       "      <td>0</td>\n",
       "    </tr>\n",
       "    <tr>\n",
       "      <th>165848</th>\n",
       "      <td>4.182017e+12</td>\n",
       "      <td>418</td>\n",
       "      <td>2017121900</td>\n",
       "      <td>2.1375</td>\n",
       "      <td>282.7000</td>\n",
       "      <td>2.3750</td>\n",
       "      <td>0.0000</td>\n",
       "      <td>NaN</td>\n",
       "      <td>NaN</td>\n",
       "      <td>75.8875</td>\n",
       "      <td>NaN</td>\n",
       "      <td>NaN</td>\n",
       "      <td>NaN</td>\n",
       "      <td>NaN</td>\n",
       "      <td>NaN</td>\n",
       "      <td>NaN</td>\n",
       "      <td>0</td>\n",
       "    </tr>\n",
       "    <tr>\n",
       "      <th>165849</th>\n",
       "      <td>4.182017e+12</td>\n",
       "      <td>418</td>\n",
       "      <td>2017121901</td>\n",
       "      <td>1.8250</td>\n",
       "      <td>302.7375</td>\n",
       "      <td>2.4625</td>\n",
       "      <td>0.0000</td>\n",
       "      <td>NaN</td>\n",
       "      <td>NaN</td>\n",
       "      <td>73.4750</td>\n",
       "      <td>NaN</td>\n",
       "      <td>NaN</td>\n",
       "      <td>NaN</td>\n",
       "      <td>NaN</td>\n",
       "      <td>NaN</td>\n",
       "      <td>NaN</td>\n",
       "      <td>0</td>\n",
       "    </tr>\n",
       "    <tr>\n",
       "      <th>165850</th>\n",
       "      <td>4.182017e+12</td>\n",
       "      <td>418</td>\n",
       "      <td>2017121902</td>\n",
       "      <td>1.4000</td>\n",
       "      <td>324.1250</td>\n",
       "      <td>2.4500</td>\n",
       "      <td>0.0000</td>\n",
       "      <td>NaN</td>\n",
       "      <td>NaN</td>\n",
       "      <td>71.1875</td>\n",
       "      <td>NaN</td>\n",
       "      <td>NaN</td>\n",
       "      <td>NaN</td>\n",
       "      <td>NaN</td>\n",
       "      <td>NaN</td>\n",
       "      <td>NaN</td>\n",
       "      <td>0</td>\n",
       "    </tr>\n",
       "    <tr>\n",
       "      <th>165851</th>\n",
       "      <td>4.182017e+12</td>\n",
       "      <td>418</td>\n",
       "      <td>2017121903</td>\n",
       "      <td>0.6000</td>\n",
       "      <td>332.3500</td>\n",
       "      <td>2.5000</td>\n",
       "      <td>0.0000</td>\n",
       "      <td>NaN</td>\n",
       "      <td>NaN</td>\n",
       "      <td>71.8250</td>\n",
       "      <td>NaN</td>\n",
       "      <td>NaN</td>\n",
       "      <td>NaN</td>\n",
       "      <td>NaN</td>\n",
       "      <td>NaN</td>\n",
       "      <td>NaN</td>\n",
       "      <td>0</td>\n",
       "    </tr>\n",
       "  </tbody>\n",
       "</table>\n",
       "</div>"
      ],
      "text/plain": [
       "                지점일시   지점          일시  8h_celsius  8h_windD  8h_windV  \\\n",
       "167016  4.192017e+12  419  2017020515      0.8625  210.3000    1.5375   \n",
       "165848  4.182017e+12  418  2017121900      2.1375  282.7000    2.3750   \n",
       "165849  4.182017e+12  418  2017121901      1.8250  302.7375    2.4625   \n",
       "165850  4.182017e+12  418  2017121902      1.4000  324.1250    2.4500   \n",
       "165851  4.182017e+12  418  2017121903      0.6000  332.3500    2.5000   \n",
       "\n",
       "        8h_precipitaiton  8h_spotAtoPressure  8h_seaAtoPressure  8h_humidity  \\\n",
       "167016            0.0625                 NaN                NaN       0.0000   \n",
       "165848            0.0000                 NaN                NaN      75.8875   \n",
       "165849            0.0000                 NaN                NaN      73.4750   \n",
       "165850            0.0000                 NaN                NaN      71.1875   \n",
       "165851            0.0000                 NaN                NaN      71.8250   \n",
       "\n",
       "        8h_insolation  8h_sunshine  사고번호 발생요일 발생시군구 사고내용  음주사고발생  \n",
       "167016            0.0          0.0   NaN  NaN   NaN  NaN       0  \n",
       "165848            NaN          NaN   NaN  NaN   NaN  NaN       0  \n",
       "165849            NaN          NaN   NaN  NaN   NaN  NaN       0  \n",
       "165850            NaN          NaN   NaN  NaN   NaN  NaN       0  \n",
       "165851            NaN          NaN   NaN  NaN   NaN  NaN       0  "
      ]
     },
     "execution_count": 6,
     "metadata": {},
     "output_type": "execute_result"
    }
   ],
   "source": [
    "data2 = data[6000:12000]\n",
    "\n",
    "data2.head()"
   ]
  },
  {
   "cell_type": "code",
   "execution_count": 7,
   "metadata": {},
   "outputs": [
    {
     "data": {
      "text/plain": [
       "Index(['지점일시', '지점', '일시', '8h_celsius', '8h_windD', '8h_windV',\n",
       "       '8h_precipitaiton', '8h_spotAtoPressure', '8h_seaAtoPressure',\n",
       "       '8h_humidity', '8h_insolation', '8h_sunshine', '사고번호', '발생요일', '발생시군구',\n",
       "       '사고내용', '음주사고발생'],\n",
       "      dtype='object')"
      ]
     },
     "execution_count": 7,
     "metadata": {},
     "output_type": "execute_result"
    }
   ],
   "source": [
    "data1.columns"
   ]
  },
  {
   "cell_type": "code",
   "execution_count": 8,
   "metadata": {
    "scrolled": true
   },
   "outputs": [
    {
     "data": {
      "text/html": [
       "<div>\n",
       "<style scoped>\n",
       "    .dataframe tbody tr th:only-of-type {\n",
       "        vertical-align: middle;\n",
       "    }\n",
       "\n",
       "    .dataframe tbody tr th {\n",
       "        vertical-align: top;\n",
       "    }\n",
       "\n",
       "    .dataframe thead th {\n",
       "        text-align: right;\n",
       "    }\n",
       "</style>\n",
       "<table border=\"1\" class=\"dataframe\">\n",
       "  <thead>\n",
       "    <tr style=\"text-align: right;\">\n",
       "      <th></th>\n",
       "      <th>지점일시</th>\n",
       "      <th>지점</th>\n",
       "      <th>일시</th>\n",
       "      <th>8h_celsius</th>\n",
       "      <th>8h_windD</th>\n",
       "      <th>8h_windV</th>\n",
       "      <th>8h_precipitaiton</th>\n",
       "      <th>8h_humidity</th>\n",
       "      <th>음주사고발생</th>\n",
       "    </tr>\n",
       "  </thead>\n",
       "  <tbody>\n",
       "    <tr>\n",
       "      <th>244987</th>\n",
       "      <td>NaN</td>\n",
       "      <td>411</td>\n",
       "      <td>2017112602</td>\n",
       "      <td>NaN</td>\n",
       "      <td>NaN</td>\n",
       "      <td>NaN</td>\n",
       "      <td>NaN</td>\n",
       "      <td>NaN</td>\n",
       "      <td>1</td>\n",
       "    </tr>\n",
       "    <tr>\n",
       "      <th>187811</th>\n",
       "      <td>4.222017e+12</td>\n",
       "      <td>422</td>\n",
       "      <td>2017062203</td>\n",
       "      <td>18.8875</td>\n",
       "      <td>313.7000</td>\n",
       "      <td>2.1750</td>\n",
       "      <td>0.000</td>\n",
       "      <td>89.5125</td>\n",
       "      <td>1</td>\n",
       "    </tr>\n",
       "    <tr>\n",
       "      <th>74550</th>\n",
       "      <td>4.082017e+12</td>\n",
       "      <td>408</td>\n",
       "      <td>2017070908</td>\n",
       "      <td>25.2375</td>\n",
       "      <td>128.9125</td>\n",
       "      <td>0.5125</td>\n",
       "      <td>0.625</td>\n",
       "      <td>92.1125</td>\n",
       "      <td>1</td>\n",
       "    </tr>\n",
       "    <tr>\n",
       "      <th>135740</th>\n",
       "      <td>4.152017e+12</td>\n",
       "      <td>415</td>\n",
       "      <td>2017070706</td>\n",
       "      <td>25.8125</td>\n",
       "      <td>149.6750</td>\n",
       "      <td>0.8500</td>\n",
       "      <td>0.000</td>\n",
       "      <td>NaN</td>\n",
       "      <td>1</td>\n",
       "    </tr>\n",
       "    <tr>\n",
       "      <th>4558</th>\n",
       "      <td>4.002017e+12</td>\n",
       "      <td>400</td>\n",
       "      <td>2017070911</td>\n",
       "      <td>26.1125</td>\n",
       "      <td>62.9000</td>\n",
       "      <td>0.5500</td>\n",
       "      <td>0.125</td>\n",
       "      <td>92.0250</td>\n",
       "      <td>1</td>\n",
       "    </tr>\n",
       "    <tr>\n",
       "      <th>225273</th>\n",
       "      <td>5.092017e+12</td>\n",
       "      <td>509</td>\n",
       "      <td>2017093021</td>\n",
       "      <td>19.9125</td>\n",
       "      <td>151.7250</td>\n",
       "      <td>0.8750</td>\n",
       "      <td>0.000</td>\n",
       "      <td>NaN</td>\n",
       "      <td>1</td>\n",
       "    </tr>\n",
       "    <tr>\n",
       "      <th>4546</th>\n",
       "      <td>4.002017e+12</td>\n",
       "      <td>400</td>\n",
       "      <td>2017070823</td>\n",
       "      <td>27.6375</td>\n",
       "      <td>245.1625</td>\n",
       "      <td>1.7875</td>\n",
       "      <td>0.000</td>\n",
       "      <td>81.8500</td>\n",
       "      <td>1</td>\n",
       "    </tr>\n",
       "    <tr>\n",
       "      <th>96318</th>\n",
       "      <td>4.112017e+12</td>\n",
       "      <td>411</td>\n",
       "      <td>2017010205</td>\n",
       "      <td>5.3875</td>\n",
       "      <td>110.7625</td>\n",
       "      <td>1.8750</td>\n",
       "      <td>0.000</td>\n",
       "      <td>68.9375</td>\n",
       "      <td>1</td>\n",
       "    </tr>\n",
       "    <tr>\n",
       "      <th>13046</th>\n",
       "      <td>4.012017e+12</td>\n",
       "      <td>401</td>\n",
       "      <td>2017062712</td>\n",
       "      <td>24.7625</td>\n",
       "      <td>141.5750</td>\n",
       "      <td>1.4125</td>\n",
       "      <td>0.000</td>\n",
       "      <td>NaN</td>\n",
       "      <td>1</td>\n",
       "    </tr>\n",
       "    <tr>\n",
       "      <th>34000</th>\n",
       "      <td>4.032017e+12</td>\n",
       "      <td>403</td>\n",
       "      <td>2017111901</td>\n",
       "      <td>-2.3750</td>\n",
       "      <td>305.7000</td>\n",
       "      <td>3.3625</td>\n",
       "      <td>0.000</td>\n",
       "      <td>NaN</td>\n",
       "      <td>1</td>\n",
       "    </tr>\n",
       "  </tbody>\n",
       "</table>\n",
       "</div>"
      ],
      "text/plain": [
       "                지점일시   지점          일시  8h_celsius  8h_windD  8h_windV  \\\n",
       "244987           NaN  411  2017112602         NaN       NaN       NaN   \n",
       "187811  4.222017e+12  422  2017062203     18.8875  313.7000    2.1750   \n",
       "74550   4.082017e+12  408  2017070908     25.2375  128.9125    0.5125   \n",
       "135740  4.152017e+12  415  2017070706     25.8125  149.6750    0.8500   \n",
       "4558    4.002017e+12  400  2017070911     26.1125   62.9000    0.5500   \n",
       "225273  5.092017e+12  509  2017093021     19.9125  151.7250    0.8750   \n",
       "4546    4.002017e+12  400  2017070823     27.6375  245.1625    1.7875   \n",
       "96318   4.112017e+12  411  2017010205      5.3875  110.7625    1.8750   \n",
       "13046   4.012017e+12  401  2017062712     24.7625  141.5750    1.4125   \n",
       "34000   4.032017e+12  403  2017111901     -2.3750  305.7000    3.3625   \n",
       "\n",
       "        8h_precipitaiton  8h_humidity  음주사고발생  \n",
       "244987               NaN          NaN       1  \n",
       "187811             0.000      89.5125       1  \n",
       "74550              0.625      92.1125       1  \n",
       "135740             0.000          NaN       1  \n",
       "4558               0.125      92.0250       1  \n",
       "225273             0.000          NaN       1  \n",
       "4546               0.000      81.8500       1  \n",
       "96318              0.000      68.9375       1  \n",
       "13046              0.000          NaN       1  \n",
       "34000              0.000          NaN       1  "
      ]
     },
     "execution_count": 8,
     "metadata": {},
     "output_type": "execute_result"
    }
   ],
   "source": [
    "data1 = data1.loc[:,['지점일시', '지점', '일시', '8h_celsius', '8h_windD', '8h_windV', '8h_precipitaiton', '8h_humidity', '음주사고발생']]\n",
    "data1.head(10)"
   ]
  },
  {
   "cell_type": "code",
   "execution_count": 9,
   "metadata": {},
   "outputs": [
    {
     "data": {
      "text/html": [
       "<div>\n",
       "<style scoped>\n",
       "    .dataframe tbody tr th:only-of-type {\n",
       "        vertical-align: middle;\n",
       "    }\n",
       "\n",
       "    .dataframe tbody tr th {\n",
       "        vertical-align: top;\n",
       "    }\n",
       "\n",
       "    .dataframe thead th {\n",
       "        text-align: right;\n",
       "    }\n",
       "</style>\n",
       "<table border=\"1\" class=\"dataframe\">\n",
       "  <thead>\n",
       "    <tr style=\"text-align: right;\">\n",
       "      <th></th>\n",
       "      <th>지점일시</th>\n",
       "      <th>지점</th>\n",
       "      <th>일시</th>\n",
       "      <th>8h_celsius</th>\n",
       "      <th>8h_windD</th>\n",
       "      <th>8h_windV</th>\n",
       "      <th>8h_precipitaiton</th>\n",
       "      <th>8h_humidity</th>\n",
       "      <th>음주사고발생</th>\n",
       "    </tr>\n",
       "  </thead>\n",
       "  <tbody>\n",
       "    <tr>\n",
       "      <th>167016</th>\n",
       "      <td>4.192017e+12</td>\n",
       "      <td>419</td>\n",
       "      <td>2017020515</td>\n",
       "      <td>0.8625</td>\n",
       "      <td>210.3000</td>\n",
       "      <td>1.5375</td>\n",
       "      <td>0.0625</td>\n",
       "      <td>0.0000</td>\n",
       "      <td>0</td>\n",
       "    </tr>\n",
       "    <tr>\n",
       "      <th>165848</th>\n",
       "      <td>4.182017e+12</td>\n",
       "      <td>418</td>\n",
       "      <td>2017121900</td>\n",
       "      <td>2.1375</td>\n",
       "      <td>282.7000</td>\n",
       "      <td>2.3750</td>\n",
       "      <td>0.0000</td>\n",
       "      <td>75.8875</td>\n",
       "      <td>0</td>\n",
       "    </tr>\n",
       "    <tr>\n",
       "      <th>165849</th>\n",
       "      <td>4.182017e+12</td>\n",
       "      <td>418</td>\n",
       "      <td>2017121901</td>\n",
       "      <td>1.8250</td>\n",
       "      <td>302.7375</td>\n",
       "      <td>2.4625</td>\n",
       "      <td>0.0000</td>\n",
       "      <td>73.4750</td>\n",
       "      <td>0</td>\n",
       "    </tr>\n",
       "    <tr>\n",
       "      <th>165850</th>\n",
       "      <td>4.182017e+12</td>\n",
       "      <td>418</td>\n",
       "      <td>2017121902</td>\n",
       "      <td>1.4000</td>\n",
       "      <td>324.1250</td>\n",
       "      <td>2.4500</td>\n",
       "      <td>0.0000</td>\n",
       "      <td>71.1875</td>\n",
       "      <td>0</td>\n",
       "    </tr>\n",
       "    <tr>\n",
       "      <th>165851</th>\n",
       "      <td>4.182017e+12</td>\n",
       "      <td>418</td>\n",
       "      <td>2017121903</td>\n",
       "      <td>0.6000</td>\n",
       "      <td>332.3500</td>\n",
       "      <td>2.5000</td>\n",
       "      <td>0.0000</td>\n",
       "      <td>71.8250</td>\n",
       "      <td>0</td>\n",
       "    </tr>\n",
       "    <tr>\n",
       "      <th>165852</th>\n",
       "      <td>4.182017e+12</td>\n",
       "      <td>418</td>\n",
       "      <td>2017121904</td>\n",
       "      <td>-0.2625</td>\n",
       "      <td>332.6125</td>\n",
       "      <td>2.5125</td>\n",
       "      <td>0.0000</td>\n",
       "      <td>71.8000</td>\n",
       "      <td>0</td>\n",
       "    </tr>\n",
       "    <tr>\n",
       "      <th>165854</th>\n",
       "      <td>4.182017e+12</td>\n",
       "      <td>418</td>\n",
       "      <td>2017121906</td>\n",
       "      <td>-1.6000</td>\n",
       "      <td>334.6750</td>\n",
       "      <td>2.6250</td>\n",
       "      <td>0.0000</td>\n",
       "      <td>69.6375</td>\n",
       "      <td>0</td>\n",
       "    </tr>\n",
       "    <tr>\n",
       "      <th>165844</th>\n",
       "      <td>4.182017e+12</td>\n",
       "      <td>418</td>\n",
       "      <td>2017121820</td>\n",
       "      <td>2.0125</td>\n",
       "      <td>204.0250</td>\n",
       "      <td>1.7250</td>\n",
       "      <td>0.0000</td>\n",
       "      <td>80.8000</td>\n",
       "      <td>0</td>\n",
       "    </tr>\n",
       "    <tr>\n",
       "      <th>167015</th>\n",
       "      <td>4.192017e+12</td>\n",
       "      <td>419</td>\n",
       "      <td>2017020514</td>\n",
       "      <td>0.9625</td>\n",
       "      <td>184.4375</td>\n",
       "      <td>1.3625</td>\n",
       "      <td>0.0625</td>\n",
       "      <td>0.0000</td>\n",
       "      <td>0</td>\n",
       "    </tr>\n",
       "    <tr>\n",
       "      <th>165855</th>\n",
       "      <td>4.182017e+12</td>\n",
       "      <td>418</td>\n",
       "      <td>2017121907</td>\n",
       "      <td>-2.1125</td>\n",
       "      <td>336.0750</td>\n",
       "      <td>2.8375</td>\n",
       "      <td>0.0000</td>\n",
       "      <td>66.3625</td>\n",
       "      <td>0</td>\n",
       "    </tr>\n",
       "  </tbody>\n",
       "</table>\n",
       "</div>"
      ],
      "text/plain": [
       "                지점일시   지점          일시  8h_celsius  8h_windD  8h_windV  \\\n",
       "167016  4.192017e+12  419  2017020515      0.8625  210.3000    1.5375   \n",
       "165848  4.182017e+12  418  2017121900      2.1375  282.7000    2.3750   \n",
       "165849  4.182017e+12  418  2017121901      1.8250  302.7375    2.4625   \n",
       "165850  4.182017e+12  418  2017121902      1.4000  324.1250    2.4500   \n",
       "165851  4.182017e+12  418  2017121903      0.6000  332.3500    2.5000   \n",
       "165852  4.182017e+12  418  2017121904     -0.2625  332.6125    2.5125   \n",
       "165854  4.182017e+12  418  2017121906     -1.6000  334.6750    2.6250   \n",
       "165844  4.182017e+12  418  2017121820      2.0125  204.0250    1.7250   \n",
       "167015  4.192017e+12  419  2017020514      0.9625  184.4375    1.3625   \n",
       "165855  4.182017e+12  418  2017121907     -2.1125  336.0750    2.8375   \n",
       "\n",
       "        8h_precipitaiton  8h_humidity  음주사고발생  \n",
       "167016            0.0625       0.0000       0  \n",
       "165848            0.0000      75.8875       0  \n",
       "165849            0.0000      73.4750       0  \n",
       "165850            0.0000      71.1875       0  \n",
       "165851            0.0000      71.8250       0  \n",
       "165852            0.0000      71.8000       0  \n",
       "165854            0.0000      69.6375       0  \n",
       "165844            0.0000      80.8000       0  \n",
       "167015            0.0625       0.0000       0  \n",
       "165855            0.0000      66.3625       0  "
      ]
     },
     "execution_count": 9,
     "metadata": {},
     "output_type": "execute_result"
    }
   ],
   "source": [
    "data2 = data2.loc[:,['지점일시', '지점', '일시', '8h_celsius', '8h_windD', '8h_windV', '8h_precipitaiton', '8h_humidity', '음주사고발생']]\n",
    "data2.head(10)"
   ]
  },
  {
   "cell_type": "code",
   "execution_count": 10,
   "metadata": {},
   "outputs": [
    {
     "name": "stdout",
     "output_type": "stream",
     "text": [
      "<class 'pandas.core.frame.DataFrame'>\n",
      "Int64Index: 6000 entries, 244987 to 165847\n",
      "Data columns (total 9 columns):\n",
      "지점일시                5997 non-null float64\n",
      "지점                  6000 non-null int64\n",
      "일시                  6000 non-null int64\n",
      "8h_celsius          5996 non-null float64\n",
      "8h_windD            5997 non-null float64\n",
      "8h_windV            5997 non-null float64\n",
      "8h_precipitaiton    5991 non-null float64\n",
      "8h_humidity         5147 non-null float64\n",
      "음주사고발생              6000 non-null int64\n",
      "dtypes: float64(6), int64(3)\n",
      "memory usage: 468.8 KB\n"
     ]
    }
   ],
   "source": [
    "data1.info()"
   ]
  },
  {
   "cell_type": "code",
   "execution_count": 11,
   "metadata": {},
   "outputs": [],
   "source": [
    "tmp = ['8h_celsius', '8h_windD', '8h_windV', '8h_precipitaiton', '8h_humidity']\n",
    "# nan값을 0으로 대체\n",
    "for i in tmp:\n",
    "    data1[i] = data1[i].fillna(0)\n",
    "    data2[i] = data2[i].fillna(0)"
   ]
  },
  {
   "cell_type": "code",
   "execution_count": 12,
   "metadata": {},
   "outputs": [
    {
     "data": {
      "text/plain": [
       "지점일시                0\n",
       "지점                  0\n",
       "일시                  0\n",
       "8h_celsius          0\n",
       "8h_windD            0\n",
       "8h_windV            0\n",
       "8h_precipitaiton    0\n",
       "8h_humidity         0\n",
       "음주사고발생              0\n",
       "dtype: int64"
      ]
     },
     "execution_count": 12,
     "metadata": {},
     "output_type": "execute_result"
    }
   ],
   "source": [
    "data2.isnull().sum()"
   ]
  },
  {
   "cell_type": "code",
   "execution_count": 13,
   "metadata": {},
   "outputs": [
    {
     "data": {
      "text/html": [
       "<div>\n",
       "<style scoped>\n",
       "    .dataframe tbody tr th:only-of-type {\n",
       "        vertical-align: middle;\n",
       "    }\n",
       "\n",
       "    .dataframe tbody tr th {\n",
       "        vertical-align: top;\n",
       "    }\n",
       "\n",
       "    .dataframe thead th {\n",
       "        text-align: right;\n",
       "    }\n",
       "</style>\n",
       "<table border=\"1\" class=\"dataframe\">\n",
       "  <thead>\n",
       "    <tr style=\"text-align: right;\">\n",
       "      <th></th>\n",
       "      <th>지점일시</th>\n",
       "      <th>지점</th>\n",
       "      <th>일시</th>\n",
       "      <th>8h_celsius</th>\n",
       "      <th>8h_windD</th>\n",
       "      <th>8h_windV</th>\n",
       "      <th>8h_precipitaiton</th>\n",
       "      <th>8h_humidity</th>\n",
       "      <th>음주사고발생</th>\n",
       "    </tr>\n",
       "  </thead>\n",
       "  <tbody>\n",
       "    <tr>\n",
       "      <th>244987</th>\n",
       "      <td>NaN</td>\n",
       "      <td>411</td>\n",
       "      <td>2017112602</td>\n",
       "      <td>0.0</td>\n",
       "      <td>0.0</td>\n",
       "      <td>0.0</td>\n",
       "      <td>0.0</td>\n",
       "      <td>0.0</td>\n",
       "      <td>1</td>\n",
       "    </tr>\n",
       "    <tr>\n",
       "      <th>244986</th>\n",
       "      <td>NaN</td>\n",
       "      <td>402</td>\n",
       "      <td>2017082402</td>\n",
       "      <td>0.0</td>\n",
       "      <td>0.0</td>\n",
       "      <td>0.0</td>\n",
       "      <td>0.0</td>\n",
       "      <td>0.0</td>\n",
       "      <td>1</td>\n",
       "    </tr>\n",
       "    <tr>\n",
       "      <th>244985</th>\n",
       "      <td>NaN</td>\n",
       "      <td>402</td>\n",
       "      <td>2017081203</td>\n",
       "      <td>0.0</td>\n",
       "      <td>0.0</td>\n",
       "      <td>0.0</td>\n",
       "      <td>0.0</td>\n",
       "      <td>0.0</td>\n",
       "      <td>1</td>\n",
       "    </tr>\n",
       "  </tbody>\n",
       "</table>\n",
       "</div>"
      ],
      "text/plain": [
       "        지점일시   지점          일시  8h_celsius  8h_windD  8h_windV  \\\n",
       "244987   NaN  411  2017112602         0.0       0.0       0.0   \n",
       "244986   NaN  402  2017082402         0.0       0.0       0.0   \n",
       "244985   NaN  402  2017081203         0.0       0.0       0.0   \n",
       "\n",
       "        8h_precipitaiton  8h_humidity  음주사고발생  \n",
       "244987               0.0          0.0       1  \n",
       "244986               0.0          0.0       1  \n",
       "244985               0.0          0.0       1  "
      ]
     },
     "execution_count": 13,
     "metadata": {},
     "output_type": "execute_result"
    }
   ],
   "source": [
    "data1[data1['지점일시'].isnull()]"
   ]
  },
  {
   "cell_type": "code",
   "execution_count": 14,
   "metadata": {},
   "outputs": [],
   "source": [
    "data1 = data1[7:-3][:]\n",
    "data2 = data2[7:-3][:]"
   ]
  },
  {
   "cell_type": "code",
   "execution_count": 15,
   "metadata": {},
   "outputs": [
    {
     "data": {
      "text/html": [
       "<div>\n",
       "<style scoped>\n",
       "    .dataframe tbody tr th:only-of-type {\n",
       "        vertical-align: middle;\n",
       "    }\n",
       "\n",
       "    .dataframe tbody tr th {\n",
       "        vertical-align: top;\n",
       "    }\n",
       "\n",
       "    .dataframe thead th {\n",
       "        text-align: right;\n",
       "    }\n",
       "</style>\n",
       "<table border=\"1\" class=\"dataframe\">\n",
       "  <thead>\n",
       "    <tr style=\"text-align: right;\">\n",
       "      <th></th>\n",
       "      <th>지점일시</th>\n",
       "      <th>지점</th>\n",
       "      <th>일시</th>\n",
       "      <th>8h_celsius</th>\n",
       "      <th>8h_windD</th>\n",
       "      <th>8h_windV</th>\n",
       "      <th>8h_precipitaiton</th>\n",
       "      <th>8h_humidity</th>\n",
       "      <th>음주사고발생</th>\n",
       "    </tr>\n",
       "  </thead>\n",
       "  <tbody>\n",
       "    <tr>\n",
       "      <th>96318</th>\n",
       "      <td>4.112017e+12</td>\n",
       "      <td>411</td>\n",
       "      <td>2017010205</td>\n",
       "      <td>5.3875</td>\n",
       "      <td>110.7625</td>\n",
       "      <td>1.8750</td>\n",
       "      <td>0.0</td>\n",
       "      <td>68.9375</td>\n",
       "      <td>1</td>\n",
       "    </tr>\n",
       "    <tr>\n",
       "      <th>13046</th>\n",
       "      <td>4.012017e+12</td>\n",
       "      <td>401</td>\n",
       "      <td>2017062712</td>\n",
       "      <td>24.7625</td>\n",
       "      <td>141.5750</td>\n",
       "      <td>1.4125</td>\n",
       "      <td>0.0</td>\n",
       "      <td>0.0000</td>\n",
       "      <td>1</td>\n",
       "    </tr>\n",
       "    <tr>\n",
       "      <th>34000</th>\n",
       "      <td>4.032017e+12</td>\n",
       "      <td>403</td>\n",
       "      <td>2017111901</td>\n",
       "      <td>-2.3750</td>\n",
       "      <td>305.7000</td>\n",
       "      <td>3.3625</td>\n",
       "      <td>0.0</td>\n",
       "      <td>0.0000</td>\n",
       "      <td>1</td>\n",
       "    </tr>\n",
       "    <tr>\n",
       "      <th>58335</th>\n",
       "      <td>4.062017e+12</td>\n",
       "      <td>406</td>\n",
       "      <td>2017090120</td>\n",
       "      <td>26.2875</td>\n",
       "      <td>245.4125</td>\n",
       "      <td>1.1500</td>\n",
       "      <td>0.0</td>\n",
       "      <td>50.3500</td>\n",
       "      <td>1</td>\n",
       "    </tr>\n",
       "    <tr>\n",
       "      <th>110908</th>\n",
       "      <td>4.122017e+12</td>\n",
       "      <td>412</td>\n",
       "      <td>2017090419</td>\n",
       "      <td>26.4375</td>\n",
       "      <td>147.9375</td>\n",
       "      <td>1.3375</td>\n",
       "      <td>0.0</td>\n",
       "      <td>0.0000</td>\n",
       "      <td>1</td>\n",
       "    </tr>\n",
       "  </tbody>\n",
       "</table>\n",
       "</div>"
      ],
      "text/plain": [
       "                지점일시   지점          일시  8h_celsius  8h_windD  8h_windV  \\\n",
       "96318   4.112017e+12  411  2017010205      5.3875  110.7625    1.8750   \n",
       "13046   4.012017e+12  401  2017062712     24.7625  141.5750    1.4125   \n",
       "34000   4.032017e+12  403  2017111901     -2.3750  305.7000    3.3625   \n",
       "58335   4.062017e+12  406  2017090120     26.2875  245.4125    1.1500   \n",
       "110908  4.122017e+12  412  2017090419     26.4375  147.9375    1.3375   \n",
       "\n",
       "        8h_precipitaiton  8h_humidity  음주사고발생  \n",
       "96318                0.0      68.9375       1  \n",
       "13046                0.0       0.0000       1  \n",
       "34000                0.0       0.0000       1  \n",
       "58335                0.0      50.3500       1  \n",
       "110908               0.0       0.0000       1  "
      ]
     },
     "execution_count": 15,
     "metadata": {},
     "output_type": "execute_result"
    }
   ],
   "source": [
    "data1.head()"
   ]
  },
  {
   "cell_type": "code",
   "execution_count": 16,
   "metadata": {},
   "outputs": [],
   "source": [
    "data1.to_csv('aws_acci_data.csv',index=True)"
   ]
  },
  {
   "cell_type": "code",
   "execution_count": 17,
   "metadata": {},
   "outputs": [
    {
     "data": {
      "text/html": [
       "<div>\n",
       "<style scoped>\n",
       "    .dataframe tbody tr th:only-of-type {\n",
       "        vertical-align: middle;\n",
       "    }\n",
       "\n",
       "    .dataframe tbody tr th {\n",
       "        vertical-align: top;\n",
       "    }\n",
       "\n",
       "    .dataframe thead th {\n",
       "        text-align: right;\n",
       "    }\n",
       "</style>\n",
       "<table border=\"1\" class=\"dataframe\">\n",
       "  <thead>\n",
       "    <tr style=\"text-align: right;\">\n",
       "      <th></th>\n",
       "      <th>지점일시</th>\n",
       "      <th>지점</th>\n",
       "      <th>일시</th>\n",
       "      <th>8h_celsius</th>\n",
       "      <th>8h_windD</th>\n",
       "      <th>8h_windV</th>\n",
       "      <th>8h_precipitaiton</th>\n",
       "      <th>8h_humidity</th>\n",
       "      <th>음주사고발생</th>\n",
       "    </tr>\n",
       "  </thead>\n",
       "  <tbody>\n",
       "    <tr>\n",
       "      <th>165844</th>\n",
       "      <td>4.182017e+12</td>\n",
       "      <td>418</td>\n",
       "      <td>2017121820</td>\n",
       "      <td>2.0125</td>\n",
       "      <td>204.0250</td>\n",
       "      <td>1.7250</td>\n",
       "      <td>0.0000</td>\n",
       "      <td>80.8000</td>\n",
       "      <td>0</td>\n",
       "    </tr>\n",
       "    <tr>\n",
       "      <th>167015</th>\n",
       "      <td>4.192017e+12</td>\n",
       "      <td>419</td>\n",
       "      <td>2017020514</td>\n",
       "      <td>0.9625</td>\n",
       "      <td>184.4375</td>\n",
       "      <td>1.3625</td>\n",
       "      <td>0.0625</td>\n",
       "      <td>0.0000</td>\n",
       "      <td>0</td>\n",
       "    </tr>\n",
       "    <tr>\n",
       "      <th>165855</th>\n",
       "      <td>4.182017e+12</td>\n",
       "      <td>418</td>\n",
       "      <td>2017121907</td>\n",
       "      <td>-2.1125</td>\n",
       "      <td>336.0750</td>\n",
       "      <td>2.8375</td>\n",
       "      <td>0.0000</td>\n",
       "      <td>66.3625</td>\n",
       "      <td>0</td>\n",
       "    </tr>\n",
       "    <tr>\n",
       "      <th>165856</th>\n",
       "      <td>4.182017e+12</td>\n",
       "      <td>418</td>\n",
       "      <td>2017121908</td>\n",
       "      <td>-2.6125</td>\n",
       "      <td>338.2125</td>\n",
       "      <td>3.0000</td>\n",
       "      <td>0.0000</td>\n",
       "      <td>64.8125</td>\n",
       "      <td>0</td>\n",
       "    </tr>\n",
       "    <tr>\n",
       "      <th>165857</th>\n",
       "      <td>4.182017e+12</td>\n",
       "      <td>418</td>\n",
       "      <td>2017121909</td>\n",
       "      <td>-3.0000</td>\n",
       "      <td>339.9625</td>\n",
       "      <td>3.2625</td>\n",
       "      <td>0.0000</td>\n",
       "      <td>63.2500</td>\n",
       "      <td>0</td>\n",
       "    </tr>\n",
       "  </tbody>\n",
       "</table>\n",
       "</div>"
      ],
      "text/plain": [
       "                지점일시   지점          일시  8h_celsius  8h_windD  8h_windV  \\\n",
       "165844  4.182017e+12  418  2017121820      2.0125  204.0250    1.7250   \n",
       "167015  4.192017e+12  419  2017020514      0.9625  184.4375    1.3625   \n",
       "165855  4.182017e+12  418  2017121907     -2.1125  336.0750    2.8375   \n",
       "165856  4.182017e+12  418  2017121908     -2.6125  338.2125    3.0000   \n",
       "165857  4.182017e+12  418  2017121909     -3.0000  339.9625    3.2625   \n",
       "\n",
       "        8h_precipitaiton  8h_humidity  음주사고발생  \n",
       "165844            0.0000      80.8000       0  \n",
       "167015            0.0625       0.0000       0  \n",
       "165855            0.0000      66.3625       0  \n",
       "165856            0.0000      64.8125       0  \n",
       "165857            0.0000      63.2500       0  "
      ]
     },
     "execution_count": 17,
     "metadata": {},
     "output_type": "execute_result"
    }
   ],
   "source": [
    "data2.head()"
   ]
  },
  {
   "cell_type": "code",
   "execution_count": 18,
   "metadata": {},
   "outputs": [
    {
     "data": {
      "text/plain": [
       "(5990, 9)"
      ]
     },
     "execution_count": 18,
     "metadata": {},
     "output_type": "execute_result"
    }
   ],
   "source": [
    "data1.shape"
   ]
  },
  {
   "cell_type": "code",
   "execution_count": 19,
   "metadata": {},
   "outputs": [
    {
     "data": {
      "text/plain": [
       "(5990, 9)"
      ]
     },
     "execution_count": 19,
     "metadata": {},
     "output_type": "execute_result"
    }
   ],
   "source": [
    "data2.shape"
   ]
  },
  {
   "cell_type": "code",
   "execution_count": 20,
   "metadata": {},
   "outputs": [
    {
     "name": "stdout",
     "output_type": "stream",
     "text": [
      "<class 'pandas.core.frame.DataFrame'>\n",
      "Int64Index: 5990 entries, 96318 to 165845\n",
      "Data columns (total 9 columns):\n",
      "지점일시                5988 non-null float64\n",
      "지점                  5990 non-null int64\n",
      "일시                  5990 non-null int64\n",
      "8h_celsius          5990 non-null float64\n",
      "8h_windD            5990 non-null float64\n",
      "8h_windV            5990 non-null float64\n",
      "8h_precipitaiton    5990 non-null float64\n",
      "8h_humidity         5990 non-null float64\n",
      "음주사고발생              5990 non-null int64\n",
      "dtypes: float64(6), int64(3)\n",
      "memory usage: 468.0 KB\n"
     ]
    }
   ],
   "source": [
    "data1.info()"
   ]
  },
  {
   "cell_type": "code",
   "execution_count": 21,
   "metadata": {},
   "outputs": [],
   "source": [
    "# 음주사고발생 False = 0, True = 1로 바꾸어준다\n",
    "#data['음주사고발생'] = data['음주사고발생'].astype('str') \n",
    "\n",
    "#for 구문은 너무 오래걸린다... 5분이나 계속돼서 끔.\n",
    "\n",
    "#true_index = data[data['음주사고발생'] == True].index\n",
    "#false_index =  data[data['음주사고발생'] == False].index\n",
    "\n",
    "#for i in true_index:\n",
    "#    data['음주사고발생'][i] = 1\n",
    "#for i in false_index:\n",
    "#    data['음주사고발생'][i] = 0"
   ]
  },
  {
   "cell_type": "code",
   "execution_count": 22,
   "metadata": {},
   "outputs": [],
   "source": [
    "#data['음주사고여부'] = data['음주사고발생'].replace('True',1).replace('False',0)"
   ]
  },
  {
   "cell_type": "code",
   "execution_count": 23,
   "metadata": {},
   "outputs": [],
   "source": [
    "#data[15:30]"
   ]
  },
  {
   "cell_type": "code",
   "execution_count": 24,
   "metadata": {},
   "outputs": [
    {
     "name": "stdout",
     "output_type": "stream",
     "text": [
      "Index(['지점일시', '지점', '일시', '8h_celsius', '8h_windD', '8h_windV',\n",
      "       '8h_precipitaiton', '8h_humidity', '음주사고발생'],\n",
      "      dtype='object')\n",
      "(5990, 9)\n",
      "(5990, 9)\n"
     ]
    }
   ],
   "source": [
    "print(data1.columns)\n",
    "print(data1.shape)\n",
    "print(data2.shape)"
   ]
  },
  {
   "cell_type": "code",
   "execution_count": 25,
   "metadata": {},
   "outputs": [
    {
     "name": "stdout",
     "output_type": "stream",
     "text": [
      "(5990, 5)\n",
      "(5990, 1)\n",
      "(5990, 1)\n"
     ]
    },
    {
     "name": "stderr",
     "output_type": "stream",
     "text": [
      "/root/miniconda3/lib/python3.6/site-packages/sklearn/cross_validation.py:41: DeprecationWarning: This module was deprecated in version 0.18 in favor of the model_selection module into which all the refactored classes and functions are moved. Also note that the interface of the new CV iterators are different from that of this module. This module will be removed in 0.20.\n",
      "  \"This module will be removed in 0.20.\", DeprecationWarning)\n"
     ]
    }
   ],
   "source": [
    "from sklearn import datasets\n",
    "from sklearn.cross_validation import train_test_split\n",
    "\n",
    "# x는 독립변수, y는 종속변수\n",
    "\n",
    "X_train = data1[['8h_celsius', '8h_windD', '8h_windV', '8h_precipitaiton', '8h_humidity']]\n",
    "\n",
    "y_train = data1[['음주사고발생']]\n",
    "\n",
    "X_test=data2[['8h_celsius', '8h_windD', '8h_windV', '8h_precipitaiton', '8h_humidity']]\n",
    "y_test = data2[['음주사고발생']]\n",
    "print(X_train.shape)\n",
    "print(y_train.shape)\n",
    "print(y_test.shape)\n",
    "# train과 test set으로 분리\n",
    "#train_test_split()는 원래 트레이닝 데이터와 결과값을 무작위로 섞은후 test_size로 주어진 비율만큼 각각 나눈다.\n",
    "\n",
    "#X_train, X_test, y_train, y_test =train_test_split(x,y, test_size=0.5)\n",
    "\n",
    "#print('X_train = ', X_train.shape)\n",
    "#print('X_test = ', X_test.shape)\n",
    "#print('y_train = ', y_train.shape)\n",
    "#print('y_test = ', y_test.shape)"
   ]
  },
  {
   "cell_type": "code",
   "execution_count": 26,
   "metadata": {},
   "outputs": [
    {
     "name": "stderr",
     "output_type": "stream",
     "text": [
      "/root/miniconda3/lib/python3.6/site-packages/ipykernel_launcher.py:3: SettingWithCopyWarning: \n",
      "A value is trying to be set on a copy of a slice from a DataFrame.\n",
      "Try using .loc[row_indexer,col_indexer] = value instead\n",
      "\n",
      "See the caveats in the documentation: http://pandas.pydata.org/pandas-docs/stable/indexing.html#indexing-view-versus-copy\n",
      "  This is separate from the ipykernel package so we can avoid doing imports until\n",
      "/root/miniconda3/lib/python3.6/site-packages/pandas/core/frame.py:3120: SettingWithCopyWarning: \n",
      "A value is trying to be set on a copy of a slice from a DataFrame\n",
      "\n",
      "See the caveats in the documentation: http://pandas.pydata.org/pandas-docs/stable/indexing.html#indexing-view-versus-copy\n",
      "  self.loc._setitem_with_indexer(key, value)\n",
      "/root/miniconda3/lib/python3.6/site-packages/pandas/core/frame.py:3108: SettingWithCopyWarning: \n",
      "A value is trying to be set on a copy of a slice from a DataFrame\n",
      "\n",
      "See the caveats in the documentation: http://pandas.pydata.org/pandas-docs/stable/indexing.html#indexing-view-versus-copy\n",
      "  return self._setitem_slice(indexer, value)\n",
      "/root/miniconda3/lib/python3.6/site-packages/ipykernel_launcher.py:4: SettingWithCopyWarning: \n",
      "A value is trying to be set on a copy of a slice from a DataFrame.\n",
      "Try using .loc[row_indexer,col_indexer] = value instead\n",
      "\n",
      "See the caveats in the documentation: http://pandas.pydata.org/pandas-docs/stable/indexing.html#indexing-view-versus-copy\n",
      "  after removing the cwd from sys.path.\n"
     ]
    }
   ],
   "source": [
    "# 모두다 범주형이기 때문에 category로 type을 변경하기.\n",
    "\n",
    "y_train[:] = y_train[:].astype('category')\n",
    "y_test[:] = y_test[:].astype('category')"
   ]
  },
  {
   "cell_type": "code",
   "execution_count": 27,
   "metadata": {},
   "outputs": [],
   "source": [
    "#X_test.head()"
   ]
  },
  {
   "cell_type": "code",
   "execution_count": 28,
   "metadata": {},
   "outputs": [
    {
     "data": {
      "text/html": [
       "<div>\n",
       "<style scoped>\n",
       "    .dataframe tbody tr th:only-of-type {\n",
       "        vertical-align: middle;\n",
       "    }\n",
       "\n",
       "    .dataframe tbody tr th {\n",
       "        vertical-align: top;\n",
       "    }\n",
       "\n",
       "    .dataframe thead th {\n",
       "        text-align: right;\n",
       "    }\n",
       "</style>\n",
       "<table border=\"1\" class=\"dataframe\">\n",
       "  <thead>\n",
       "    <tr style=\"text-align: right;\">\n",
       "      <th></th>\n",
       "      <th>8h_celsius</th>\n",
       "      <th>8h_windD</th>\n",
       "      <th>8h_windV</th>\n",
       "      <th>8h_precipitaiton</th>\n",
       "      <th>8h_humidity</th>\n",
       "    </tr>\n",
       "  </thead>\n",
       "  <tbody>\n",
       "    <tr>\n",
       "      <th>96318</th>\n",
       "      <td>5.3875</td>\n",
       "      <td>110.7625</td>\n",
       "      <td>1.8750</td>\n",
       "      <td>0.0</td>\n",
       "      <td>68.9375</td>\n",
       "    </tr>\n",
       "    <tr>\n",
       "      <th>13046</th>\n",
       "      <td>24.7625</td>\n",
       "      <td>141.5750</td>\n",
       "      <td>1.4125</td>\n",
       "      <td>0.0</td>\n",
       "      <td>0.0000</td>\n",
       "    </tr>\n",
       "    <tr>\n",
       "      <th>34000</th>\n",
       "      <td>-2.3750</td>\n",
       "      <td>305.7000</td>\n",
       "      <td>3.3625</td>\n",
       "      <td>0.0</td>\n",
       "      <td>0.0000</td>\n",
       "    </tr>\n",
       "    <tr>\n",
       "      <th>58335</th>\n",
       "      <td>26.2875</td>\n",
       "      <td>245.4125</td>\n",
       "      <td>1.1500</td>\n",
       "      <td>0.0</td>\n",
       "      <td>50.3500</td>\n",
       "    </tr>\n",
       "    <tr>\n",
       "      <th>110908</th>\n",
       "      <td>26.4375</td>\n",
       "      <td>147.9375</td>\n",
       "      <td>1.3375</td>\n",
       "      <td>0.0</td>\n",
       "      <td>0.0000</td>\n",
       "    </tr>\n",
       "  </tbody>\n",
       "</table>\n",
       "</div>"
      ],
      "text/plain": [
       "        8h_celsius  8h_windD  8h_windV  8h_precipitaiton  8h_humidity\n",
       "96318       5.3875  110.7625    1.8750               0.0      68.9375\n",
       "13046      24.7625  141.5750    1.4125               0.0       0.0000\n",
       "34000      -2.3750  305.7000    3.3625               0.0       0.0000\n",
       "58335      26.2875  245.4125    1.1500               0.0      50.3500\n",
       "110908     26.4375  147.9375    1.3375               0.0       0.0000"
      ]
     },
     "execution_count": 28,
     "metadata": {},
     "output_type": "execute_result"
    }
   ],
   "source": [
    "X_train.head()"
   ]
  },
  {
   "cell_type": "markdown",
   "metadata": {},
   "source": [
    "## (1) 퍼셉트론을 이용한 머신러닝 - 47% 예측력"
   ]
  },
  {
   "cell_type": "code",
   "execution_count": 29,
   "metadata": {},
   "outputs": [
    {
     "name": "stderr",
     "output_type": "stream",
     "text": [
      "/root/miniconda3/lib/python3.6/site-packages/sklearn/linear_model/stochastic_gradient.py:117: DeprecationWarning: n_iter parameter is deprecated in 0.19 and will be removed in 0.21. Use max_iter and tol instead.\n",
      "  DeprecationWarning)\n",
      "/root/miniconda3/lib/python3.6/site-packages/sklearn/utils/validation.py:578: DataConversionWarning: A column-vector y was passed when a 1d array was expected. Please change the shape of y to (n_samples, ), for example using ravel().\n",
      "  y = column_or_1d(y, warn=True)\n"
     ]
    },
    {
     "ename": "NameError",
     "evalue": "name 'np' is not defined",
     "output_type": "error",
     "traceback": [
      "\u001b[0;31m---------------------------------------------------------------------------\u001b[0m",
      "\u001b[0;31mNameError\u001b[0m                                 Traceback (most recent call last)",
      "\u001b[0;32m<ipython-input-29-3bd9c23d0a9d>\u001b[0m in \u001b[0;36m<module>\u001b[0;34m()\u001b[0m\n\u001b[1;32m     19\u001b[0m \u001b[0;34m\u001b[0m\u001b[0m\n\u001b[1;32m     20\u001b[0m \u001b[0;31m#test의 종속변수의 값은 모두다 0이기 때문에 y_pred=0인 것이 정답!\u001b[0m\u001b[0;34m\u001b[0m\u001b[0;34m\u001b[0m\u001b[0m\n\u001b[0;32m---> 21\u001b[0;31m \u001b[0myes\u001b[0m \u001b[0;34m=\u001b[0m \u001b[0mnp\u001b[0m\u001b[0;34m.\u001b[0m\u001b[0msum\u001b[0m\u001b[0;34m(\u001b[0m\u001b[0my_pred\u001b[0m\u001b[0;34m==\u001b[0m\u001b[0;36m0\u001b[0m\u001b[0;34m)\u001b[0m\u001b[0;34m\u001b[0m\u001b[0m\n\u001b[0m\u001b[1;32m     22\u001b[0m \u001b[0mnope\u001b[0m \u001b[0;34m=\u001b[0m \u001b[0mnp\u001b[0m\u001b[0;34m.\u001b[0m\u001b[0msum\u001b[0m\u001b[0;34m(\u001b[0m\u001b[0my_pred\u001b[0m\u001b[0;34m==\u001b[0m\u001b[0;36m1\u001b[0m\u001b[0;34m)\u001b[0m\u001b[0;34m\u001b[0m\u001b[0m\n\u001b[1;32m     23\u001b[0m \u001b[0mprint\u001b[0m\u001b[0;34m(\u001b[0m\u001b[0myes\u001b[0m\u001b[0;34m)\u001b[0m\u001b[0;34m\u001b[0m\u001b[0m\n",
      "\u001b[0;31mNameError\u001b[0m: name 'np' is not defined"
     ]
    }
   ],
   "source": [
    "from sklearn import datasets\n",
    "from sklearn.preprocessing import StandardScaler\n",
    "from sklearn.linear_model import Perceptron\n",
    "\n",
    "sc = StandardScaler() #표준화 함수를 sc 변수에다가 넣기.\n",
    "sc.fit(X_train) #X_train의 평균과 표준편차를 구함\n",
    "X_train_std = sc.transform(X_train) #트레이닝 데이터를 표준화\n",
    "X_test_std = sc.transform(X_test) #테스트 데이터를 표준화\n",
    "\n",
    "#머신러닝\n",
    "#사이킷런의 linear-model에 선형모델 알고리즘 사용\n",
    "#learning rate를 0.01로두고 퍼셉트론 객체를 생성.\n",
    "ml = Perceptron(eta0=0.1, n_iter=40, random_state=0) \n",
    "ml.fit(X_train_std, y_train)\n",
    "\n",
    "#예측확인\n",
    "#테스트 셋에 있는 독립변수들을 이용해 종속변수 예측하기 \n",
    "y_pred = ml.predict(X_test_std)\n",
    "\n",
    "#test의 종속변수의 값은 모두다 0이기 때문에 y_pred=0인 것이 정답!\n",
    "yes = np.sum(y_pred==0)\n",
    "nope = np.sum(y_pred==1)\n",
    "print(yes)\n",
    "print(nope)\n",
    "print('퍼셉트론 모델 사용하여 예측 맞은 값은요..? ' , yes/nope) #47프로 맞췄음..ㅋㅋ\n",
    "\n",
    "print('정확도 : %.2f' %accuracy_score(y_test, y_pred))"
   ]
  },
  {
   "cell_type": "markdown",
   "metadata": {},
   "source": [
    "## (2) 선형회귀모델링 - 67% 예측력\n",
    "- rmsle라는 예측력을 검사하는 함수를 만듦.\n",
    "- exp란 소프트맥스 함수로 계산되어 predicted_values와 actual_values로 나타낸다.\n",
    "- 소트맥스는 모든 값은 0~1사이의 값이며 출력 총합이 1이된다.\n",
    "- rmsle score가 과대평가 된 항목보다는 과소평가된 항목에 페널티를 준 것.\n",
    "- 오차를 제곱해서 평균한 값의 제곱근으로 값이 작을수록 정밀도가 높게 됨."
   ]
  },
  {
   "cell_type": "code",
   "execution_count": 30,
   "metadata": {},
   "outputs": [
    {
     "data": {
      "text/plain": [
       "make_scorer(rmsle)"
      ]
     },
     "execution_count": 30,
     "metadata": {},
     "output_type": "execute_result"
    }
   ],
   "source": [
    "from sklearn.metrics import make_scorer\n",
    "\n",
    "def rmsle(predicted_values, actual_values, convertExp=True):\n",
    "\n",
    "    if convertExp: \n",
    "        predicted_values = np.exp(predicted_values),\n",
    "        actual_values = np.exp(actual_values)\n",
    "\n",
    "    # 넘파이로 배열 형태로 바꿔준다.\n",
    "    predicted_values = np.array(predicted_values)\n",
    "    actual_values = np.array(actual_values)\n",
    "\n",
    "    # 예측값과 실제 값에 1을 더하고 로그를 씌워준다.\n",
    "    log_predict = np.log(predicted_values + 1)\n",
    "    log_actual = np.log(actual_values + 1)\n",
    "\n",
    "    # 위에서 계산한 예측값에서 실제값을 빼주고 제곱을 해준다.\n",
    "    difference = log_predict - log_actual\n",
    "    difference = np.square(difference)\n",
    "\n",
    "    # 평균을 낸다.\n",
    "    mean_difference = difference.mean()\n",
    "\n",
    "    # 다시 루트를 씌운다.\n",
    "    score = np.sqrt(mean_difference)\n",
    "\n",
    "    return score\n",
    "\n",
    "rmsle_scorer = make_scorer(rmsle)\n",
    "rmsle_scorer"
   ]
  },
  {
   "cell_type": "code",
   "execution_count": 31,
   "metadata": {},
   "outputs": [
    {
     "name": "stdout",
     "output_type": "stream",
     "text": [
      "RMSLE Value For Linear Regression:  0.23997799693125818\n",
      "[[0.38332866]\n",
      " [0.56182241]\n",
      " [0.31413842]\n",
      " [0.30523075]\n",
      " [0.28652047]\n",
      " [0.26802157]\n",
      " [0.24936803]\n",
      " [0.57361261]\n",
      " [0.24051231]\n",
      " [0.23000578]]\n",
      "5990\n",
      "0과 가까운 값 4515\n",
      "1과 가까운 값 1475\n",
      "예측력은... ?  0.6733111849390919\n"
     ]
    }
   ],
   "source": [
    "from sklearn.linear_model import LinearRegression, Ridge, Lasso\n",
    "from sklearn.model_selection import GridSearchCV\n",
    "from sklearn import metrics\n",
    "import warnings\n",
    "import numpy as np\n",
    "pd.options.mode.chained_assignment = None\n",
    "warnings.filterwarnings(\"ignore\", category=DeprecationWarning)\n",
    "\n",
    "# 선형회귀 모델을 초기화\n",
    "lModel = LinearRegression()\n",
    "\n",
    "# 모델을 학습시킨다.\n",
    "y_train_log = np.log1p(y_train)\n",
    "lModel.fit(X_train, y_train_log)\n",
    "\n",
    "# 예측하고 정확도를 평가한다.\n",
    "preds = lModel.predict(X_test)\n",
    "print (\"RMSLE Value For Linear Regression: \",\n",
    "       rmsle(np.exp(y_test),np.exp(preds), False))\n",
    "\n",
    "print(preds[0:10])\n",
    "print(len(preds))\n",
    "aboutzero = np.sum(preds<0.5)\n",
    "aboutone = np.sum(preds>0.5)\n",
    "print('0과 가까운 값', aboutzero) #총 5990개 중 4515개가 0과 더 가까움 \n",
    "print('1과 가까운 값', aboutone)\n",
    "\n",
    "print('예측력은... ? ', 1-(aboutone/aboutzero)) #67프로 예측력\n",
    "#약 20프로의 오차율을 보임"
   ]
  },
  {
   "cell_type": "markdown",
   "metadata": {},
   "source": [
    "## (3) RandomForest 모델링 - 23% 예측력"
   ]
  },
  {
   "cell_type": "markdown",
   "metadata": {},
   "source": [
    "### 랜덤 포레스트의 장점 중 하나는 각 독립 변수의 중요도(feature importance) 계산!"
   ]
  },
  {
   "cell_type": "code",
   "execution_count": 32,
   "metadata": {},
   "outputs": [
    {
     "name": "stderr",
     "output_type": "stream",
     "text": [
      "/root/miniconda3/lib/python3.6/site-packages/ipykernel_launcher.py:13: DataConversionWarning: A column-vector y was passed when a 1d array was expected. Please change the shape of y to (n_samples,), for example using ravel().\n",
      "  del sys.path[0]\n",
      "/root/miniconda3/lib/python3.6/site-packages/ipykernel_launcher.py:14: DataConversionWarning: A column-vector y was passed when a 1d array was expected. Please change the shape of y to (n_samples,), for example using ravel().\n",
      "  \n"
     ]
    },
    {
     "name": "stdout",
     "output_type": "stream",
     "text": [
      "랜덤포레스트 모델1 : RandomForestClassifier(bootstrap=True, class_weight=None, criterion='gini',\n",
      "            max_depth=None, max_features='auto', max_leaf_nodes=None,\n",
      "            min_impurity_decrease=0.0, min_impurity_split=None,\n",
      "            min_samples_leaf=1, min_samples_split=2,\n",
      "            min_weight_fraction_leaf=0.0, n_estimators=100, n_jobs=2,\n",
      "            oob_score=True, random_state=123456, verbose=0,\n",
      "            warm_start=False)\n"
     ]
    }
   ],
   "source": [
    "from sklearn.ensemble import RandomForestClassifier\n",
    "\n",
    "# 랜덤포레스트 모델 \n",
    "#rf_model1이라는 랜덤포레스트 객체 생성\n",
    "#n_estimators=100개는 의사결정트리수가 100개임.\n",
    "#n_jobs는 학습을 수행하기 위해 CPU 코어 2개를 병렬적으로 활용하여 성능을 높이기\n",
    "\n",
    "rf_model1 = RandomForestClassifier(n_estimators=100, \n",
    "                                   n_jobs=2,\n",
    "                                   oob_score=True,\n",
    "                                   random_state=123456)\n",
    "\n",
    "rf_model1.fit(X_train, y_train) #랜덤포레스트 객체 학습\n",
    "print('랜덤포레스트 모델1 :', rf_model1.fit(X_train, y_train))\n",
    "\n"
   ]
  },
  {
   "cell_type": "code",
   "execution_count": 33,
   "metadata": {},
   "outputs": [
    {
     "name": "stdout",
     "output_type": "stream",
     "text": [
      "rf 1 = Out-of-bag score estimate: 0.872\n",
      "rf 1 = Mean accuracy score: 0.237\n",
      "report              precision    recall  f1-score   support\n",
      "\n",
      "          0       0.24      1.00      0.38      1419\n",
      "          1       0.00      0.00      0.00      4571\n",
      "\n",
      "avg / total       0.06      0.24      0.09      5990\n",
      "\n",
      "1419\n"
     ]
    },
    {
     "name": "stderr",
     "output_type": "stream",
     "text": [
      "/root/miniconda3/lib/python3.6/site-packages/sklearn/metrics/classification.py:1135: UndefinedMetricWarning: Precision and F-score are ill-defined and being set to 0.0 in labels with no predicted samples.\n",
      "  'precision', 'predicted', average, warn_for)\n"
     ]
    }
   ],
   "source": [
    "from sklearn.metrics import accuracy_score\n",
    "\n",
    "predicted1 = rf_model1.predict(X_test)#추출한 테스트 데이터 기반으로 예측\n",
    "accuracy1 = accuracy_score(y_test, predicted1)\n",
    "cl_report = metrics.classification_report(predicted1, y_test)\n",
    "\n",
    "\n",
    "print(f'rf 1 = Out-of-bag score estimate: {rf_model1.oob_score_:.3}')\n",
    "print(f'rf 1 = Mean accuracy score: {accuracy1:.3}')\n",
    "print('report', cl_report)\n",
    "\n",
    "print(np.sum(predicted1==0)) #총 5990개 중 1419개 맞음. 예측력 23프로"
   ]
  },
  {
   "cell_type": "code",
   "execution_count": 35,
   "metadata": {},
   "outputs": [
    {
     "data": {
      "text/plain": [
       "array([1, 1, 1, ..., 1, 1, 1])"
      ]
     },
     "execution_count": 35,
     "metadata": {},
     "output_type": "execute_result"
    }
   ],
   "source": [
    "predicted1"
   ]
  },
  {
   "cell_type": "code",
   "execution_count": 37,
   "metadata": {},
   "outputs": [
    {
     "name": "stdout",
     "output_type": "stream",
     "text": [
      "Feature ranking:\n",
      "1. feature 0 (0.310764)\n",
      "2. feature 4 (0.259386)\n",
      "3. feature 1 (0.227922)\n",
      "4. feature 2 (0.174663)\n",
      "5. feature 3 (0.027265)\n"
     ]
    },
    {
     "data": {
      "image/png": "[encoded data removed]",
      "text/plain": [
       "<Figure size 432x288 with 1 Axes>"
      ]
     },
     "metadata": {},
     "output_type": "display_data"
    }
   ],
   "source": [
    "importances = rf_model1.feature_importances_\n",
    "\n",
    "std = np.std([tree.feature_importances_ for tree in rf_model1.estimators_], axis=0)\n",
    "indices = np.argsort(importances)[::-1]\n",
    "\n",
    "print(\"Feature ranking:\")\n",
    "for f in range(X_train.shape[1]):\n",
    "    print(\"%d. feature %d (%f)\" % (f + 1, indices[f], importances[indices[f]]))\n",
    "\n",
    "import matplotlib.pyplot as plt\n",
    "plt.title(\"Feature importances\")\n",
    "plt.bar(range(X_train.shape[1]), importances[indices], color=\"r\", yerr=std[indices], align=\"center\")\n",
    "plt.xticks(range(X_train.shape[1]), indices)\n",
    "plt.xlim([-1, X_train.shape[1]])\n",
    "plt.show()\n",
    "\n",
    "#사고는 0인 온도, "
   ]
  }
 ],
 "metadata": {
  "kernelspec": {
   "display_name": "Python 3",
   "language": "python",
   "name": "python3"
  },
  "language_info": {
   "codemirror_mode": {
    "name": "ipython",
    "version": 3
   },
   "file_extension": ".py",
   "mimetype": "text/x-python",
   "name": "python",
   "nbconvert_exporter": "python",
   "pygments_lexer": "ipython3",
   "version": "3.6.5"
  }
 },
 "nbformat": 4,
 "nbformat_minor": 2
}
